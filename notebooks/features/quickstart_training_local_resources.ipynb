{
 "cells": [
  {
   "cell_type": "markdown",
   "id": "gorgeous-dubai",
   "metadata": {},
   "source": [
    "# 一次性快速训练示例"
   ]
  },
  {
   "cell_type": "markdown",
   "id": "hundred-norman",
   "metadata": {},
   "source": [
    "### 初始化SDK与Anylearn后端引擎连接"
   ]
  },
  {
   "cell_type": "code",
   "execution_count": 1,
   "id": "comprehensive-thought",
   "metadata": {},
   "outputs": [],
   "source": [
    "from anylearn.config import init_sdk\n",
    "init_sdk('http://anylearn.xyz', 'username', 'password')"
   ]
  },
  {
   "cell_type": "markdown",
   "id": "4e0fec29",
   "metadata": {},
   "source": [
    "### 获取资源组\n",
    "\n",
    "#### /!\\ 版本0.11.0起，创建训练时，需要额外增加计算资源请求\n",
    "这里需取到用户想要访问的资源组的ID，后续创建训练时会用到"
   ]
  },
  {
   "cell_type": "code",
   "execution_count": 2,
   "id": "3efe0d47",
   "metadata": {},
   "outputs": [
    {
     "data": {
      "text/plain": [
       "[QuotaGroup(id='QGRP03fe160211ecb6119ef94103bf12', name='METEO', level='Guarantee', node_level='meteo', capacity={'A-100-unique': 4, 'CPU': 32, 'Memory': 128}, default={'A-100-unique': 1, 'CPU': 8, 'Memory': 32}, allocated={'A-100-unique': 1, 'CPU': -3, 'Memory': -4})]"
      ]
     },
     "execution_count": 2,
     "metadata": {},
     "output_type": "execute_result"
    }
   ],
   "source": [
    "from anylearn.interfaces import QuotaGroup\n",
    "groups = QuotaGroup.get_list()\n",
    "groups"
   ]
  },
  {
   "cell_type": "markdown",
   "id": "functioning-modification",
   "metadata": {},
   "source": [
    "### 创建快速训练任务\n",
    "\n",
    "#### /!\\ 版本0.11.0起，创建训练时，需要额外增加计算资源请求\n",
    "上一步获取到的资源组的ID在这里会用到"
   ]
  },
  {
   "cell_type": "code",
   "execution_count": 3,
   "id": "northern-apparel",
   "metadata": {},
   "outputs": [
    {
     "name": "stderr",
     "output_type": "stream",
     "text": [
      "Local algorithm (None) has been deleted remotely, forced to re-registering algorithm.\n"
     ]
    },
    {
     "data": {
      "text/plain": [
       "TrainTask(name='yoedbfv7', description='', state=0, visibility=1, creator_id='USERee16e08a11ebbbe9d2ff387e91ee', owner=[], project_id='PROJ4d851bcc4c6586c4caf1f7b060b4', algorithm_id='ALGOb44a1c4411ecb9c1eaf0cae42d3f', train_params='{\"data-path\": \"$DSETe4141c4111ecb9aa424b453a05e6\", \"batch-size\": 256, \"epochs\": 3}', files='DSETe4141c4111ecb9aa424b453a05e6', results_id='FILE3e461c4411ecb9aa424b453a05e6', secret_key='TKEYd1241c4411ecb9aa424b453a05e6', create_time='2021-09-23 16:03:33', finish_time='', envs='', gpu_num=0, gpu_mem=0, hpo=False, hpo_search_space=None, final_metric=None, resource_request=[{'QGRP03fe160211ecb6119ef94103bf12': {'A-100-unique': 1, 'CPU': 4, 'Memory': 4}}], id='TRAIc6ca1c4411ecb9aa424b453a05e6')"
      ]
     },
     "execution_count": 3,
     "metadata": {},
     "output_type": "execute_result"
    }
   ],
   "source": [
    "from anylearn.applications.quickstart import quick_train\n",
    "train_task, algo, dset, project = quick_train(\n",
    "    algorithm_name=\"testyhu\",\n",
    "    algorithm_dir=\"../../resources/cnn\",\n",
    "    dataset_dir=\"../../resources/fashion_mnist\",\n",
    "    entrypoint=\"python fashion_mnist.py\",\n",
    "    output=\"output\",\n",
    "    dataset_hyperparam_name=\"data-path\",\n",
    "    hyperparams={'batch-size': 256, 'epochs': 3},\n",
    "    resource_request=[{\n",
    "        'QGRP03fe160211ecb6119ef94103bf12': {\n",
    "            'A-100-unique': 1,\n",
    "            'CPU': 4,\n",
    "            'Memory': 4,\n",
    "        }\n",
    "    }],\n",
    ")\n",
    "train_task"
   ]
  },
  {
   "cell_type": "markdown",
   "id": "median-chester",
   "metadata": {},
   "source": [
    "### 追踪训练进度"
   ]
  },
  {
   "cell_type": "code",
   "execution_count": 3,
   "id": "intelligent-gibson",
   "metadata": {},
   "outputs": [
    {
     "name": "stdout",
     "output_type": "stream",
     "text": [
      "working\n",
      "{'ip': '10.0.1.157', 'secret_key': 'TKEY38a4cffd11eb8932f292118be07c', 'state': 'success'}\n"
     ]
    },
    {
     "data": {
      "text/plain": [
       "'success'"
      ]
     },
     "execution_count": 3,
     "metadata": {},
     "output_type": "execute_result"
    }
   ],
   "source": [
    "import time\n",
    "\n",
    "status = train_task.get_status()\n",
    "while 'state' not in status:\n",
    "    print(\"Waiting...\")\n",
    "    time.sleep(10)\n",
    "    status = train_task.get_status()\n",
    "while status['state'] not in [\"success\", \"fail\"]:\n",
    "    if 'process' in status:\n",
    "        print(f\"Progress: {int(100 * float(status['process']))}%\")\n",
    "    else:\n",
    "        print(status['state'])\n",
    "    time.sleep(30)\n",
    "    status = train_task.get_status()\n",
    "    print(status)\n",
    "status['state']"
   ]
  }
 ],
 "metadata": {
  "kernelspec": {
   "display_name": "Python 3",
   "language": "python",
   "name": "python3"
  },
  "language_info": {
   "codemirror_mode": {
    "name": "ipython",
    "version": 3
   },
   "file_extension": ".py",
   "mimetype": "text/x-python",
   "name": "python",
   "nbconvert_exporter": "python",
   "pygments_lexer": "ipython3",
   "version": "3.9.6"
  }
 },
 "nbformat": 4,
 "nbformat_minor": 5
}
