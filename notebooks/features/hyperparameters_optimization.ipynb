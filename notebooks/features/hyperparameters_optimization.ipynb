{
 "cells": [
  {
   "cell_type": "markdown",
   "id": "57dddcd9",
   "metadata": {},
   "source": [
    "# 超参数自动调优示例（HPO）\n",
    "\n",
    "1. 准备超参数搜索空间\n",
    "2. 调用SDK超参数自动调优接口\n",
    "3. 查看NNIBoard、等待超参数调优结果\n",
    "4. 中断重启\n",
    "5. 获取最佳模型"
   ]
  },
  {
   "cell_type": "markdown",
   "id": "7b352a06",
   "metadata": {},
   "source": [
    "### 1. 准备超参数搜索空间\n",
    "\n",
    "超参数调优功能的前提是，用户对算法的超参数有基本的认知，并且已知哪些超参数需要调优以及这些超参数的取值范围。\n",
    "\n",
    "这里我们以一个简单的CNN为例，准备调优的超参数是`batch_size`、`learning_rate`、`epochs`，如下："
   ]
  },
  {
   "cell_type": "code",
   "execution_count": 1,
   "id": "e691e856",
   "metadata": {},
   "outputs": [],
   "source": [
    "search_space = {\n",
    "    \"batch-size\": { \"_type\": \"choice\", \"_value\": [32, 64, 128] },\n",
    "    \"learning-rate\": { \"_type\": \"choice\", \"_value\": [0.001, 0.01] },\n",
    "    \"epochs\": { \"_type\": \"choice\", \"_value\": [3, 6, 12] },\n",
    "}"
   ]
  },
  {
   "cell_type": "markdown",
   "id": "80097618",
   "metadata": {},
   "source": [
    "### 2. 调用SDK超参数自动调优接口\n",
    "\n",
    "将前置准备的超参数搜索空间、本地算法路径、本地数据集路径传入`run_hpo()`接口，并根据具体需求传入其他参数。\n",
    "\n",
    "接口集成了超参数自动调优的开源工具**NNI**，并在上层封装了准备Anylearn中相关资源以及调用NNI进行调参的过程。"
   ]
  },
  {
   "cell_type": "code",
   "execution_count": 2,
   "id": "adverse-artist",
   "metadata": {},
   "outputs": [],
   "source": [
    "# 示例CNN的指标为accuracy，优化目标应为最大化（\"maximize\"）\n",
    "# 如指标为loss或error等，优化目标应为最小化（\"minimize\"）\n",
    "hpo_mode = \"maximize\""
   ]
  },
  {
   "cell_type": "code",
   "execution_count": 4,
   "id": "593c3208",
   "metadata": {},
   "outputs": [
    {
     "name": "stderr",
     "output_type": "stream",
     "text": [
      "Local algorithm (None) has been deleted remotely, forced to re-registering algorithm.\n"
     ]
    },
    {
     "data": {
      "text/plain": [
       "HpoExperiment(\n",
       "    project_id = 'PROJe0681dda11ecb06a9efcdf6b9861',\n",
       "    algorithm_id = 'ALGO0c741dda11ec97889efcdf6b9861',\n",
       "    dataset_id = 'DSETaf621dda11ec97889efcdf6b9861',\n",
       "    hpo_search_space = '{'batch-size': {'_type': 'choice', '_value': [32, 64, 128]}, 'epochs': {'_type': 'choice', '_value': [3, 6, 12]}, 'learning-rate': {'_type': 'choice', '_value': [0.001, 0.01]}}',\n",
       "    hpo_max_runs = '10',\n",
       "    hpo_max_duration = '24h',\n",
       "    hpo_tuner_name = 'TPE',\n",
       "    hpo_mode = 'maximize',\n",
       "    hpo_concurrency = '2',\n",
       "    gpu_num = '-1',\n",
       "    gpu_mem = '-1',\n",
       "    created_at = '2021-09-25 16:29:43',\n",
       "    hpo_id = 'a4k5y7sz',\n",
       "    hpo_ip = '10.0.0.7',\n",
       "    hpo_port = '8000',\n",
       "    hpo_status = 'RUNNING',\n",
       "    tasks = '{}',\n",
       "    err = '[]',\n",
       ")"
      ]
     },
     "execution_count": 4,
     "metadata": {},
     "output_type": "execute_result"
    }
   ],
   "source": [
    "from anylearn.applications.hpo import run_hpo\n",
    "from anylearn.config import init_sdk\n",
    "\n",
    "init_sdk(\"http://192.168.10.22:31888\", \"yhuang\", \"Anylearn2021!\")\n",
    "\n",
    "hpo_experiment = run_hpo(\n",
    "    hpo_search_space=search_space,\n",
    "    hpo_mode=hpo_mode,\n",
    "    hpo_concurrency=2,\n",
    "    project_name=\"TEST_SDK_HPO\",\n",
    "    algorithm_name=\"TEST_SDK_HPO\",\n",
    "    algorithm_dir=\"../../resources/cnn\",\n",
    "    dataset_dir=\"../../resources/fashion_mnist\",\n",
    "    algorithm_entrypoint=\"python fashion_mnist.py\",\n",
    "    algorithm_output=\"output\",\n",
    "    dataset_hyperparam_name=\"data-path\",\n",
    "    resource_request=[{\n",
    "        'default': {\n",
    "            'P-100-shared': 1,\n",
    "            'CPU': 2,\n",
    "            'Memory': 4,\n",
    "        }\n",
    "    }],\n",
    ")\n",
    "hpo_experiment"
   ]
  },
  {
   "cell_type": "markdown",
   "id": "funky-probe",
   "metadata": {},
   "source": [
    "#### 2-bis. 调参实验Python对象\n",
    "\n",
    "调用`run_hpo`接口返回`HpoExperiment`实例，相当于一次调参实验的profile，其中记录了实验的基本元信息，以及所使用的算法、数据集等相关元信息，方便用户回忆和区分不同实验的内容，以便后续导出所需的模型。"
   ]
  },
  {
   "cell_type": "code",
   "execution_count": 5,
   "id": "still-bacteria",
   "metadata": {},
   "outputs": [
    {
     "data": {
      "text/plain": [
       "HpoExperiment(\n",
       "    project_id = 'PROJ1fec04c611eca5e4025560493f54',\n",
       "    algorithm_id = 'ALGO164404b311eca64e1ef0f663bff1',\n",
       "    dataset_id = 'DSET427cff3711eb956ff2b2f0027438',\n",
       "    hpo_search_space = '{'batch-size': {'_type': 'choice', '_value': [32, 64, 128]}, 'epochs': {'_type': 'choice', '_value': [3, 6, 12]}, 'learning-rate': {'_type': 'choice', '_value': [0.001, 0.01]}}',\n",
       "    hpo_max_runs = '10',\n",
       "    hpo_max_duration = '24h',\n",
       "    hpo_tuner_name = 'TPE',\n",
       "    hpo_mode = 'maximize',\n",
       "    hpo_concurrency = '2',\n",
       "    gpu_num = '1',\n",
       "    gpu_mem = '0',\n",
       "    created_at = '2021-08-24 18:35:00',\n",
       "    hpo_id = '7piwjtu9',\n",
       "    hpo_ip = '10.0.0.165',\n",
       "    hpo_port = '8000',\n",
       "    hpo_status = 'RUNNING',\n",
       "    tasks = '{'TRAI1cb604c611eca5e4025560493f54': 'ziBQp', 'TRAI612004c611eca5e4025560493f54': 'OWtcE'}',\n",
       "    err = '[]',\n",
       ")"
      ]
     },
     "execution_count": 5,
     "metadata": {},
     "output_type": "execute_result"
    }
   ],
   "source": [
    "# 同步实验对象\n",
    "hpo_experiment.get_detail()\n",
    "hpo_experiment.get_tasks()\n",
    "hpo_experiment"
   ]
  },
  {
   "cell_type": "code",
   "execution_count": 6,
   "id": "e3a55680",
   "metadata": {},
   "outputs": [
    {
     "data": {
      "text/plain": [
       "Algorithm(tags='', mirror_id='MIRRtestyhuquicktraincde48001122', follows_anylearn_norm=False, entrypoint_training='python fashion_mnist.py', output_training='model', entrypoint_evaluation=None, output_evaluation=None, name='TEST_SDK_HPO', description='SDK_QUICKSTART', state=3, visibility=3, upload_time='2021-08-24 16:17:17', filename='TEST_SDK_HPO.zip', is_zipfile=True, file_path='USER6c1404b311ecb4f10e2019d0107b/algorithm/ALGO164404b311eca64e1ef0f663bff1/release', size='0', creator_id='USER6c1404b311ecb4f10e2019d0107b', node_id='cave-c31e1c203f10da7b', owner=['USER6c1404b311ecb4f10e2019d0107b'], id='ALGO164404b311eca64e1ef0f663bff1', _Algorithm__train_params=[{'name': 'dataset', 'type': 'dataset', 'suggest': 1}], required_train_params=[{'name': 'dataset', 'type': 'dataset', 'suggest': 1}], default_train_params={}, _Algorithm__evaluate_params=[{'name': 'dataset', 'type': 'dataset', 'suggest': 1}, {'name': 'model_path', 'alias': '', 'description': '', 'type': 'model', 'suggest': 1}], required_evaluate_params=[{'name': 'dataset', 'type': 'dataset', 'suggest': 1}, {'name': 'model_path', 'alias': '', 'description': '', 'type': 'model', 'suggest': 1}], default_evaluate_params={})"
      ]
     },
     "execution_count": 6,
     "metadata": {},
     "output_type": "execute_result"
    }
   ],
   "source": [
    "# 查看实验相关算法\n",
    "hpo_experiment.algorithm"
   ]
  },
  {
   "cell_type": "code",
   "execution_count": 7,
   "id": "b5df9b60",
   "metadata": {},
   "outputs": [
    {
     "data": {
      "text/plain": [
       "Dataset(name='DSET_k5v6mg2a', description='SDK_QUICKSTART', state=3, visibility=1, upload_time='2021-08-17 16:46:53', filename='DSET_k5v6mg2a.zip', is_zipfile=True, file_path='USERfb6c6d2111eaadda13fd17feeac7/dataset/DSET427cff3711eb956ff2b2f0027438/release', size='0', creator_id='USERfb6c6d2111eaadda13fd17feeac7', node_id='cave-c31e1c203f10da7b', owner=['USERfb6c6d2111eaadda13fd17feeac7'], id='DSET427cff3711eb956ff2b2f0027438')"
      ]
     },
     "execution_count": 7,
     "metadata": {},
     "output_type": "execute_result"
    }
   ],
   "source": [
    "# 查看实验相关数据集\n",
    "hpo_experiment.dataset"
   ]
  },
  {
   "cell_type": "code",
   "execution_count": 8,
   "id": "54f3e117",
   "metadata": {},
   "outputs": [
    {
     "data": {
      "text/plain": [
       "Project(id='PROJ1fec04c611eca5e4025560493f54', name='TEST_SDK_HPO', description='SDK_HPO_EXPERIMENT', visibility=1, create_time='2021-08-24 18:34:57', update_time='2021-08-24 18:34:57', creator_id='USER6c1404b311ecb4f10e2019d0107b', datasets=['DSET427cff3711eb956ff2b2f0027438'], owner=['USER6c1404b311ecb4f10e2019d0107b'])"
      ]
     },
     "execution_count": 8,
     "metadata": {},
     "output_type": "execute_result"
    }
   ],
   "source": [
    "# 查看实验相关项目\n",
    "hpo_experiment.project"
   ]
  },
  {
   "cell_type": "markdown",
   "id": "3d97c786",
   "metadata": {},
   "source": [
    "### 3. 查看实验日志\n",
    "\n",
    "实验日志分为三大类：\n",
    "1. NNI实验总线日志（nnimanager.log），记录实验启停等流程信息，通过`HpoExperiment.get_log()`获取\n",
    "2. NNI实验任务输出日志（stderr、stdout和trial.log），记录实验任务执行过程中的输出，通过`HpoExperiment.get_trial_logs()`获取\n",
    "3. Anylearn训练任务日志，记录算法在执行训练过程中的输出，通过`HpoExperiment.get_trial_train_tasks()[i].get_full_log()`获取"
   ]
  },
  {
   "cell_type": "code",
   "execution_count": 9,
   "id": "49824c0f",
   "metadata": {},
   "outputs": [
    {
     "name": "stdout",
     "output_type": "stream",
     "text": [
      "[2021-08-24 18:34:59] INFO [ 'Datastore initialization done' ]\n",
      "[2021-08-24 18:34:59] INFO [ 'RestServer start' ]\n",
      "[2021-08-24 18:34:59] WARNING [ 'Tensorboard may not installed, if you want to use tensorboard, please check if tensorboard installed.' ]\n",
      "[2021-08-24 18:34:59] INFO [ 'RestServer base port is 8000' ]\n",
      "[2021-08-24 18:34:59] INFO [ 'Rest server listening on: http://0.0.0.0:8000' ]\n",
      "[2021-08-24 18:34:59] INFO [ 'Starting experiment: 7piwjtu9' ]\n",
      "[2021-08-24 18:34:59] INFO [ 'Setup training service...' ]\n",
      "[2021-08-24 18:35:00] INFO [ 'Construct local machine training service.' ]\n",
      "[2021-08-24 18:35:00] INFO [ 'Setup tuner...' ]\n",
      "[2021-08-24 18:35:00] INFO [ 'Change NNIManager status from: INITIALIZED to: RUNNING' ]\n",
      "[2021-08-24 18:35:00] INFO [ 'Add event listeners' ]\n",
      "[2021-08-24 18:35:00] INFO [ 'Run local machine training service.' ]\n",
      "[2021-08-24 18:35:01] INFO [ 'NNIManager received command from dispatcher: ID, ' ]\n",
      "[2021-08-24 18:35:01] INFO [ 'NNIManager received command from dispatcher: TR, {\"parameter_id\": 0, \"parameter_source\": \"algorithm\", \"parameters\": {\"batch-size\": 32, \"learning-rate\": 0.01, \"epochs\": 3}, \"parameter_index\": 0}' ]\n",
      "[2021-08-24 18:35:01] INFO [ 'NNIManager received command from dispatcher: TR, {\"parameter_id\": 1, \"parameter_source\": \"algorithm\", \"parameters\": {\"batch-size\": 128, \"learning-rate\": 0.01, \"epochs\": 6}, \"parameter_index\": 0}' ]\n",
      "[2021-08-24 18:35:05] INFO [ 'submitTrialJob: form: {\"sequenceId\":0,\"hyperParameters\":{\"value\":\"{\\\\\"parameter_id\\\\\": 0, \\\\\"parameter_source\\\\\": \\\\\"algorithm\\\\\", \\\\\"parameters\\\\\": {\\\\\"batch-size\\\\\": 32, \\\\\"learning-rate\\\\\": 0.01, \\\\\"epochs\\\\\": 3}, \\\\\"parameter_index\\\\\": 0}\",\"index\":0}}' ]\n",
      "[2021-08-24 18:35:05] INFO [ 'submitTrialJob: form: {\"sequenceId\":1,\"hyperParameters\":{\"value\":\"{\\\\\"parameter_id\\\\\": 1, \\\\\"parameter_source\\\\\": \\\\\"algorithm\\\\\", \\\\\"parameters\\\\\": {\\\\\"batch-size\\\\\": 128, \\\\\"learning-rate\\\\\": 0.01, \\\\\"epochs\\\\\": 6}, \\\\\"parameter_index\\\\\": 0}\",\"index\":0}}' ]\n",
      "[2021-08-24 18:35:15] INFO [ 'Trial job OWtcE status changed from WAITING to RUNNING' ]\n",
      "[2021-08-24 18:35:15] INFO [ 'Trial job ziBQp status changed from WAITING to RUNNING' ]\n",
      "\n"
     ]
    },
    {
     "data": {
      "text/plain": [
       "[None]"
      ]
     },
     "execution_count": 9,
     "metadata": {},
     "output_type": "execute_result"
    }
   ],
   "source": [
    "# 查询NNI实验总线日志\n",
    "meta_log = hpo_experiment.get_log()\n",
    "[print(l) for l in meta_log]"
   ]
  },
  {
   "cell_type": "code",
   "execution_count": 10,
   "id": "b028caf3",
   "metadata": {},
   "outputs": [
    {
     "name": "stderr",
     "output_type": "stream",
     "text": [
      "Note that this method may be time-consuming\n"
     ]
    },
    {
     "name": "stdout",
     "output_type": "stream",
     "text": [
      "[2021-08-24 18:35:10] PRINT ---\n",
      "[2021-08-24 18:35:10] PRINT         Project ID: PROJ1fec04c611eca5e4025560493f54\n",
      "[2021-08-24 18:35:10] PRINT         ---\n",
      "[2021-08-24 18:35:10] PRINT         Running trial...\n",
      "[2021-08-24 18:35:10] PRINT         \n",
      "[2021-08-24 18:35:10] PRINT {'name': 'HPO_TRIAL_N1_ziBQp', 'project_id': 'PROJ1fec04c611eca5e4025560493f54', 'algorithm_id': 'ALGO164404b311eca64e1ef0f663bff1', 'files': ['DSET427cff3711eb956ff2b2f0027438'], 'train_params': '{\"batch-size\": 128, \"learning-rate\": 0.01, \"epochs\": 6, \"data-path\": \"$DSET427cff3711eb956ff2b2f0027438\"}', 'gpu_num': '1', 'gpu_mem': '0', 'hpo_id': 'ziBQp'}\n",
      "[2021-08-24 18:36:21] PRINT Intermediate metrics: [{'id': 'METR629e04c711eca5e4025560493f54', 'metric': 0.8729000091552734, 'reported_at': '2021-08-24 18:36:11', 'train_task_id': 'TRAI1cb604c611eca5e4025560493f54'}, {'id': 'METRf7d204c711eca5e4025560493f54', 'metric': 0.8895999789237976, 'reported_at': '2021-08-24 18:36:15', 'train_task_id': 'TRAI1cb604c611eca5e4025560493f54'}, {'id': 'METR229004c711eca4ac265fe0cb6be1', 'metric': 0.8873999714851379, 'reported_at': '2021-08-24 18:36:21', 'train_task_id': 'TRAI1cb604c611eca5e4025560493f54'}]\n",
      "[2021-08-24 18:36:21] PRINT Last timestamp: 2021-08-24 18:36:22\n",
      "[2021-08-24 18:36:21] PRINT Self-adjusted polling: 24\n",
      "[2021-08-24 18:36:45] PRINT Intermediate metrics: [{'id': 'METR0ff604c711eca4ac265fe0cb6be1', 'metric': 0.8920999765396118, 'reported_at': '2021-08-24 18:36:25', 'train_task_id': 'TRAI1cb604c611eca5e4025560493f54'}, {'id': 'METRfbd404c711eca4ac265fe0cb6be1', 'metric': 0.8906999826431274, 'reported_at': '2021-08-24 18:36:29', 'train_task_id': 'TRAI1cb604c611eca5e4025560493f54'}, {'id': 'METRcf7c04c711eca4ac265fe0cb6be1', 'metric': 0.9013000130653381, 'reported_at': '2021-08-24 18:36:33', 'train_task_id': 'TRAI1cb604c611eca5e4025560493f54'}]\n",
      "[2021-08-24 18:36:45] PRINT Last timestamp: 2021-08-24 18:36:34\n",
      "[2021-08-24 18:36:45] PRINT Self-adjusted polling: 4\n",
      "[2021-08-24 18:36:45] PRINT Final metric: {'final_metric': 0.9013000130653381, 'id': 'TRAI1cb604c611eca5e4025560493f54', 'name': 'HPO_TRIAL_N1_ziBQp'}\n",
      "[2021-08-24 18:36:45] PRINT ---\n",
      "\n"
     ]
    },
    {
     "data": {
      "text/plain": [
       "[None]"
      ]
     },
     "execution_count": 10,
     "metadata": {},
     "output_type": "execute_result"
    }
   ],
   "source": [
    "# 查询当前所有NNI实验任务输出日志\n",
    "trial_logs = hpo_experiment.get_trial_logs()\n",
    "[print(l) for l in trial_logs[list(trial_logs.keys())[0]]['log']]"
   ]
  },
  {
   "cell_type": "code",
   "execution_count": 11,
   "id": "5cdc5bae",
   "metadata": {},
   "outputs": [
    {
     "data": {
      "text/plain": [
       "[TrainTask(name='HPO_TRIAL_N1_ziBQp', description='', state=2, visibility=1, creator_id='USER6c1404b311ecb4f10e2019d0107b', owner=['USER6c1404b311ecb4f10e2019d0107b'], project_id='PROJ1fec04c611eca5e4025560493f54', algorithm_id='ALGO164404b311eca64e1ef0f663bff1', train_params='{\"batch-size\": 128, \"learning-rate\": 0.01, \"epochs\": 6, \"data-path\": \"$DSET427cff3711eb956ff2b2f0027438\"}', files='DSET427cff3711eb956ff2b2f0027438', results_id='FILE413004c611eca5e4025560493f54', secret_key='TKEYf95404c611eca5e4025560493f54', create_time='2021-08-24 18:35:10', finish_time='2021-08-24 18:36:36', envs='', gpu_num=1, gpu_mem=0, hpo=False, hpo_search_space=None, final_metric=None, id='TRAI1cb604c611eca5e4025560493f54'),\n",
       " TrainTask(name='HPO_TRIAL_N2_i6IiE', description='', state=1, visibility=1, creator_id='USER6c1404b311ecb4f10e2019d0107b', owner=['USER6c1404b311ecb4f10e2019d0107b'], project_id='PROJ1fec04c611eca5e4025560493f54', algorithm_id='ALGO164404b311eca64e1ef0f663bff1', train_params='{\"batch-size\": 64, \"learning-rate\": 0.001, \"epochs\": 3, \"data-path\": \"$DSET427cff3711eb956ff2b2f0027438\"}', files='DSET427cff3711eb956ff2b2f0027438', results_id='FILEf79e04c711eca4ac265fe0cb6be1', secret_key='TKEYa40a04c711eca4ac265fe0cb6be1', create_time='2021-08-24 18:37:00', finish_time='', envs='', gpu_num=1, gpu_mem=0, hpo=False, hpo_search_space=None, final_metric=None, id='TRAI21cc04c711eca4ac265fe0cb6be1'),\n",
       " TrainTask(name='HPO_TRIAL_N0_OWtcE', description='', state=2, visibility=1, creator_id='USER6c1404b311ecb4f10e2019d0107b', owner=['USER6c1404b311ecb4f10e2019d0107b'], project_id='PROJ1fec04c611eca5e4025560493f54', algorithm_id='ALGO164404b311eca64e1ef0f663bff1', train_params='{\"batch-size\": 32, \"learning-rate\": 0.01, \"epochs\": 3, \"data-path\": \"$DSET427cff3711eb956ff2b2f0027438\"}', files='DSET427cff3711eb956ff2b2f0027438', results_id='FILEba4404c611eca5e4025560493f54', secret_key='TKEY59cc04c611eca5e4025560493f54', create_time='2021-08-24 18:35:10', finish_time='2021-08-24 18:36:32', envs='', gpu_num=1, gpu_mem=0, hpo=False, hpo_search_space=None, final_metric=None, id='TRAI612004c611eca5e4025560493f54')]"
      ]
     },
     "execution_count": 11,
     "metadata": {},
     "output_type": "execute_result"
    }
   ],
   "source": [
    "# 获取实验相关的所有训练任务\n",
    "tasks = hpo_experiment.get_trial_train_tasks()\n",
    "tasks"
   ]
  },
  {
   "cell_type": "code",
   "execution_count": 16,
   "id": "989c83fa",
   "metadata": {},
   "outputs": [
    {
     "data": {
      "text/plain": [
       "[{'offset': 117,\n",
       "  'text': 'From http://anylearn-gitea-http.anylearn-yhu:3000/xlearn/TEST_SDK_HPO'},\n",
       " {'offset': 257, 'text': ' * [new branch]      master     -> origin/master'},\n",
       " {'offset': 381,\n",
       "  'text': 'HEAD is now at c559a1f Anylearn auto-commit 2021-07-15 01:25:10'},\n",
       " {'offset': 515, 'text': \"Note: checking out 'origin/master'.\"},\n",
       " {'offset': 620, 'text': ''},\n",
       " {'offset': 690,\n",
       "  'text': \"You are in 'detached HEAD' state. You can look around, make experimental\"},\n",
       " {'offset': 832,\n",
       "  'text': 'changes and commit them, and you can discard any commits you make in this'},\n",
       " {'offset': 976,\n",
       "  'text': 'state without impacting any branches by performing another checkout.'},\n",
       " {'offset': 1114, 'text': ''},\n",
       " {'offset': 1185,\n",
       "  'text': 'If you want to create a new branch to retain commits you create, you may'},\n",
       " {'offset': 1328,\n",
       "  'text': 'do so (now or later) by using -b with the checkout command again. Example:'},\n",
       " {'offset': 1473, 'text': ''},\n",
       " {'offset': 1544, 'text': '  git checkout -b <new-branch-name>'},\n",
       " {'offset': 1660, 'text': ''},\n",
       " {'offset': 1730,\n",
       "  'text': 'HEAD is now at c559a1f Anylearn auto-commit 2021-07-15 01:25:10'},\n",
       " {'offset': 1864,\n",
       "  'text': 'Looking in indexes: https://pypi.tuna.tsinghua.edu.cn/simple'},\n",
       " {'offset': 1994, 'text': 'Collecting tensorflow==2.3.0'},\n",
       " {'offset': 2093,\n",
       "  'text': '  Downloading https://pypi.tuna.tsinghua.edu.cn/packages/16/89/f2d29c2eafc2eeafb17d5634340e06366af904d332341200a49d954bce85/tensorflow-2.3.0-cp37-cp37m-manylinux2010_x86_64.whl (320.4 MB)'},\n",
       " {'offset': 2351, 'text': 'Collecting keras-preprocessing<1.2,>=1.1.1'},\n",
       " {'offset': 2474,\n",
       "  'text': '  Downloading https://pypi.tuna.tsinghua.edu.cn/packages/79/4c/7c3275a01e12ef9368a892926ab932b33bb13d55794881e3573482b378a7/Keras_Preprocessing-1.1.2-py2.py3-none-any.whl (42 kB)'},\n",
       " {'offset': 2723, 'text': 'Collecting six>=1.12.0'},\n",
       " {'offset': 2821,\n",
       "  'text': '  Downloading https://pypi.tuna.tsinghua.edu.cn/packages/d9/5a/e7c31adbe875f2abbb91bd84cf2dc52d792b5a01506781dbcf25c91daf11/six-1.16.0-py2.py3-none-any.whl (11 kB)'},\n",
       " {'offset': 3054, 'text': 'Collecting wrapt>=1.11.1'},\n",
       " {'offset': 3154,\n",
       "  'text': '  Downloading https://pypi.tuna.tsinghua.edu.cn/packages/82/f7/e43cefbe88c5fd371f4cf0cf5eb3feccd07515af9fd6cf7dbf1d1793a797/wrapt-1.12.1.tar.gz (27 kB)'},\n",
       " {'offset': 3376, 'text': 'Collecting astunparse==1.6.3'},\n",
       " {'offset': 3475,\n",
       "  'text': '  Downloading https://pypi.tuna.tsinghua.edu.cn/packages/2b/03/13dde6512ad7b4557eb792fbcf0c653af6076b81e5941d36ec61f7ce6028/astunparse-1.6.3-py2.py3-none-any.whl (12 kB)'},\n",
       " {'offset': 3715, 'text': 'Collecting numpy<1.19.0,>=1.16.0'},\n",
       " {'offset': 3828,\n",
       "  'text': '  Downloading https://pypi.tuna.tsinghua.edu.cn/packages/d6/c6/58e517e8b1fb192725cfa23c01c2e60e4e6699314ee9684a1c5f5c9b27e1/numpy-1.18.5-cp37-cp37m-manylinux1_x86_64.whl (20.1 MB)'},\n",
       " {'offset': 4078, 'text': 'Collecting tensorflow-estimator<2.4.0,>=2.3.0'},\n",
       " {'offset': 4204,\n",
       "  'text': '  Downloading https://pypi.tuna.tsinghua.edu.cn/packages/e9/ed/5853ec0ae380cba4588eab1524e18ece1583b65f7ae0e97321f5ff9dfd60/tensorflow_estimator-2.3.0-py2.py3-none-any.whl (459 kB)'},\n",
       " {'offset': 4454, 'text': 'Collecting scipy==1.4.1'},\n",
       " {'offset': 4548,\n",
       "  'text': '  Downloading https://pypi.tuna.tsinghua.edu.cn/packages/dd/82/c1fe128f3526b128cfd185580ba40d01371c5d299fcf7f77968e22dfcc2e/scipy-1.4.1-cp37-cp37m-manylinux1_x86_64.whl (26.1 MB)'},\n",
       " {'offset': 4797, 'text': 'Collecting protobuf>=3.9.2'},\n",
       " {'offset': 4899,\n",
       "  'text': '  Downloading https://pypi.tuna.tsinghua.edu.cn/packages/4c/53/ddcef00219f2a3c863b24288e24a20c3070bd086a1e77706f22994a7f6db/protobuf-3.17.3-cp37-cp37m-manylinux_2_5_x86_64.manylinux1_x86_64.whl (1.0 MB)'},\n",
       " {'offset': 5172, 'text': 'Collecting opt-einsum>=2.3.2'},\n",
       " {'offset': 5276,\n",
       "  'text': '  Downloading https://pypi.tuna.tsinghua.edu.cn/packages/bc/19/404708a7e54ad2798907210462fd950c3442ea51acc8790f3da48d2bee8b/opt_einsum-3.3.0-py3-none-any.whl (65 kB)'},\n",
       " {'offset': 5512, 'text': 'Collecting h5py<2.11.0,>=2.10.0'},\n",
       " {'offset': 5624,\n",
       "  'text': '  Downloading https://pypi.tuna.tsinghua.edu.cn/packages/3f/c0/abde58b837e066bca19a3f7332d9d0493521d7dd6b48248451a9e3fe2214/h5py-2.10.0-cp37-cp37m-manylinux1_x86_64.whl (2.9 MB)'},\n",
       " {'offset': 5872, 'text': 'Collecting google-pasta>=0.1.8'},\n",
       " {'offset': 5978,\n",
       "  'text': '  Downloading https://pypi.tuna.tsinghua.edu.cn/packages/a3/de/c648ef6835192e6e2cc03f40b19eeda4382c49b5bafb43d88b931c4c74ac/google_pasta-0.2.0-py3-none-any.whl (57 kB)'},\n",
       " {'offset': 6216, 'text': 'Collecting gast==0.3.3'},\n",
       " {'offset': 6309,\n",
       "  'text': '  Downloading https://pypi.tuna.tsinghua.edu.cn/packages/d6/84/759f5dd23fec8ba71952d97bcc7e2c9d7d63bdc582421f3cd4be845f0c98/gast-0.3.3-py2.py3-none-any.whl (9.7 kB)'},\n",
       " {'offset': 6543,\n",
       "  'text': 'Requirement already satisfied: wheel>=0.26 in /usr/lib/python3/dist-packages (from tensorflow==2.3.0->-r requirements.txt (line 1)) (0.30.0)'},\n",
       " {'offset': 6764, 'text': 'Collecting grpcio>=1.8.6'},\n",
       " {'offset': 6864,\n",
       "  'text': '  Downloading https://pypi.tuna.tsinghua.edu.cn/packages/10/ca/2bbd8f95d03fac3e8f07563e0e3d9d8ec8e573f5ec61221536f4e854801d/grpcio-1.38.1-cp37-cp37m-manylinux2014_x86_64.whl (4.2 MB)'},\n",
       " {'offset': 7117, 'text': 'Collecting termcolor>=1.1.0'},\n",
       " {'offset': 7220,\n",
       "  'text': '  Downloading https://pypi.tuna.tsinghua.edu.cn/packages/8a/48/a76be51647d0eb9f10e2a4511bf3ffb8cc1e6b14e9e4fab46173aa79f981/termcolor-1.1.0.tar.gz (3.9 kB)'},\n",
       " {'offset': 7446, 'text': 'Collecting absl-py>=0.7.0'},\n",
       " {'offset': 7547,\n",
       "  'text': '  Downloading https://pypi.tuna.tsinghua.edu.cn/packages/23/47/835652c7e19530973c73c65e652fc53bd05725d5a7cf9bb8706777869c1e/absl_py-0.13.0-py3-none-any.whl (132 kB)'},\n",
       " {'offset': 7782, 'text': 'Collecting tensorboard<3,>=2.3.0'},\n",
       " {'offset': 7895,\n",
       "  'text': '  Downloading https://pypi.tuna.tsinghua.edu.cn/packages/44/f5/7feea02a3fb54d5db827ac4b822a7ba8933826b36de21880518250b8733a/tensorboard-2.5.0-py3-none-any.whl (6.0 MB)'},\n",
       " {'offset': 8133,\n",
       "  'text': 'Requirement already satisfied: requests<3,>=2.21.0 in /usr/local/lib/python3.7/dist-packages (from tensorboard<3,>=2.3.0->tensorflow==2.3.0->-r requirements.txt (line 1)) (2.25.0)'},\n",
       " {'offset': 8413, 'text': 'Collecting setuptools>=41.0.0'},\n",
       " {'offset': 8517,\n",
       "  'text': '  Downloading https://pypi.tuna.tsinghua.edu.cn/packages/a2/e1/902fbc2f61ad6243cd3d57ffa195a9eb123021ec912ec5d811acf54a39f8/setuptools-57.1.0-py3-none-any.whl (818 kB)'},\n",
       " {'offset': 8755, 'text': 'Collecting tensorboard-plugin-wit>=1.6.0'},\n",
       " {'offset': 8871,\n",
       "  'text': '  Downloading https://pypi.tuna.tsinghua.edu.cn/packages/1a/c1/499e600ba0c618b451cd9c425ae1c177249940a2086316552fee7d86c954/tensorboard_plugin_wit-1.8.0-py3-none-any.whl (781 kB)'},\n",
       " {'offset': 9119, 'text': 'Collecting markdown>=2.6.8'},\n",
       " {'offset': 9221,\n",
       "  'text': '  Downloading https://pypi.tuna.tsinghua.edu.cn/packages/6e/33/1ae0f71395e618d6140fbbc9587cc3156591f748226075e0f7d6f9176522/Markdown-3.3.4-py3-none-any.whl (97 kB)'},\n",
       " {'offset': 9455, 'text': 'Collecting werkzeug>=0.11.15'},\n",
       " {'offset': 9559,\n",
       "  'text': '  Downloading https://pypi.tuna.tsinghua.edu.cn/packages/bd/24/11c3ea5a7e866bf2d97f0501d0b4b1c9bbeade102bb4b588f0d2919a5212/Werkzeug-2.0.1-py3-none-any.whl (288 kB)'},\n",
       " {'offset': 9794, 'text': 'Collecting google-auth-oauthlib<0.5,>=0.4.1'},\n",
       " {'offset': 9918,\n",
       "  'text': '  Downloading https://pypi.tuna.tsinghua.edu.cn/packages/9d/d3/7541e89f1fc456eef157224f597a8bba22589db6369a03eaba68c11f07a0/google_auth_oauthlib-0.4.4-py2.py3-none-any.whl (18 kB)'},\n",
       " {'offset': 10168, 'text': 'Collecting tensorboard-data-server<0.7.0,>=0.6.0'},\n",
       " {'offset': 10297,\n",
       "  'text': '  Downloading https://pypi.tuna.tsinghua.edu.cn/packages/60/f9/802efd84988bffd9f644c03b6e66fde8e76c3aa33db4279ddd11c5d61f4b/tensorboard_data_server-0.6.1-py3-none-manylinux2010_x86_64.whl (4.9 MB)'},\n",
       " {'offset': 10564, 'text': 'Collecting google-auth<2,>=1.6.3'},\n",
       " {'offset': 10677,\n",
       "  'text': '  Downloading https://pypi.tuna.tsinghua.edu.cn/packages/6e/1d/e4718af587967b8fb6ac7e0e257809934005a3f8fde8f31a304c7e682874/google_auth-1.32.1-py2.py3-none-any.whl (147 kB)'},\n",
       " {'offset': 10920, 'text': 'Collecting rsa<5,>=3.1.4'},\n",
       " {'offset': 11025,\n",
       "  'text': '  Downloading https://pypi.tuna.tsinghua.edu.cn/packages/e9/93/0c0f002031f18b53af7a6166103c02b9c0667be528944137cc954ec921b3/rsa-4.7.2-py3-none-any.whl (34 kB)'},\n",
       " {'offset': 11254, 'text': 'Collecting cachetools<5.0,>=2.0.0'},\n",
       " {'offset': 11368,\n",
       "  'text': '  Downloading https://pypi.tuna.tsinghua.edu.cn/packages/bf/28/c4f5796c67ad06bb91d98d543a5e01805c1ff065e08871f78e52d2a331ad/cachetools-4.2.2-py3-none-any.whl (11 kB)'},\n",
       " {'offset': 11603, 'text': 'Collecting pyasn1-modules>=0.2.1'},\n",
       " {'offset': 11711,\n",
       "  'text': '  Downloading https://pypi.tuna.tsinghua.edu.cn/packages/95/de/214830a981892a3e286c3794f41ae67a4495df1108c3da8a9f62159b9a9d/pyasn1_modules-0.2.8-py2.py3-none-any.whl (155 kB)'},\n",
       " {'offset': 11956, 'text': 'Collecting requests-oauthlib>=0.7.0'},\n",
       " {'offset': 12067,\n",
       "  'text': '  Downloading https://pypi.tuna.tsinghua.edu.cn/packages/a3/12/b92740d845ab62ea4edf04d2f4164d82532b5a0b03836d4d4e71c6f3d379/requests_oauthlib-1.3.0-py2.py3-none-any.whl (23 kB)'},\n",
       " {'offset': 12314,\n",
       "  'text': 'Requirement already satisfied: importlib-metadata in /usr/local/lib/python3.7/dist-packages (from markdown>=2.6.8->tensorboard<3,>=2.3.0->tensorflow==2.3.0->-r requirements.txt (line 1)) (4.5.0)'},\n",
       " {'offset': 12609, 'text': 'Collecting pyasn1<0.5.0,>=0.4.6'},\n",
       " {'offset': 12721,\n",
       "  'text': '  Downloading https://pypi.tuna.tsinghua.edu.cn/packages/62/1e/a94a8d635fa3ce4cfc7f506003548d0a2447ae76fd5ca53932970fe3053f/pyasn1-0.4.8-py2.py3-none-any.whl (77 kB)'},\n",
       " {'offset': 12956,\n",
       "  'text': 'Requirement already satisfied: urllib3<1.27,>=1.21.1 in /usr/local/lib/python3.7/dist-packages (from requests<3,>=2.21.0->tensorboard<3,>=2.3.0->tensorflow==2.3.0->-r requirements.txt (line 1)) (1.26.5)'},\n",
       " {'offset': 13274,\n",
       "  'text': 'Requirement already satisfied: idna<3,>=2.5 in /usr/lib/python3/dist-packages (from requests<3,>=2.21.0->tensorboard<3,>=2.3.0->tensorflow==2.3.0->-r requirements.txt (line 1)) (2.6)'},\n",
       " {'offset': 13572,\n",
       "  'text': 'Requirement already satisfied: certifi>=2017.4.17 in /usr/local/lib/python3.7/dist-packages (from requests<3,>=2.21.0->tensorboard<3,>=2.3.0->tensorflow==2.3.0->-r requirements.txt (line 1)) (2021.5.30)'},\n",
       " {'offset': 13885,\n",
       "  'text': 'Requirement already satisfied: chardet<4,>=3.0.2 in /usr/local/lib/python3.7/dist-packages (from requests<3,>=2.21.0->tensorboard<3,>=2.3.0->tensorflow==2.3.0->-r requirements.txt (line 1)) (3.0.4)'},\n",
       " {'offset': 14198, 'text': 'Collecting oauthlib>=3.0.0'},\n",
       " {'offset': 14300,\n",
       "  'text': '  Downloading https://pypi.tuna.tsinghua.edu.cn/packages/e8/5d/9dd1c29e5a786525f6342f6c1d812ed2e37edc653ad297048c1668988053/oauthlib-3.1.1-py2.py3-none-any.whl (146 kB)'},\n",
       " {'offset': 14539,\n",
       "  'text': 'Requirement already satisfied: typing-extensions>=3.6.4 in /usr/local/lib/python3.7/dist-packages (from importlib-metadata->markdown>=2.6.8->tensorboard<3,>=2.3.0->tensorflow==2.3.0->-r requirements.txt (line 1)) (3.10.0.0)'},\n",
       " {'offset': 14873,\n",
       "  'text': 'Requirement already satisfied: zipp>=0.5 in /usr/local/lib/python3.7/dist-packages (from importlib-metadata->markdown>=2.6.8->tensorboard<3,>=2.3.0->tensorflow==2.3.0->-r requirements.txt (line 1)) (3.4.1)'},\n",
       " {'offset': 15189,\n",
       "  'text': 'Building wheels for collected packages: termcolor, wrapt'},\n",
       " {'offset': 15316,\n",
       "  'text': '  Building wheel for termcolor (setup.py): started'},\n",
       " {'offset': 15437,\n",
       "  'text': \"  Building wheel for termcolor (setup.py): finished with status 'done'\"},\n",
       " {'offset': 15578,\n",
       "  'text': '  Created wheel for termcolor: filename=termcolor-1.1.0-py3-none-any.whl size=5679 sha256=f4d2145cd55eba26c0780c46d9371580ce02bdd10efa567d0da427f306783a2a'},\n",
       " {'offset': 15802,\n",
       "  'text': '  Stored in directory: /root/.cache/pip/wheels/71/44/3c/c0c506ed2f9c156422d425f1a603e729e6b8f17c488130f088'},\n",
       " {'offset': 15979, 'text': '  Building wheel for wrapt (setup.py): started'},\n",
       " {'offset': 16096,\n",
       "  'text': \"  Building wheel for wrapt (setup.py): finished with status 'done'\"},\n",
       " {'offset': 16233,\n",
       "  'text': '  Created wheel for wrapt: filename=wrapt-1.12.1-cp37-cp37m-linux_x86_64.whl size=70539 sha256=4a63ac446bc690ebab1046780e084969473d08e0d9e18afadf555f630d0ce97e'},\n",
       " {'offset': 16462,\n",
       "  'text': '  Stored in directory: /root/.cache/pip/wheels/ae/f2/06/28c1595c8d779e35515fd09d2179062e8fa7a9c224d6f1714b'},\n",
       " {'offset': 16639, 'text': 'Successfully built termcolor wrapt'},\n",
       " {'offset': 16743,\n",
       "  'text': 'Installing collected packages: pyasn1, six, setuptools, rsa, pyasn1-modules, oauthlib, cachetools, requests-oauthlib, google-auth, werkzeug, tensorboard-plugin-wit, tensorboard-data-server, protobuf, numpy, markdown, grpcio, google-auth-oauthlib, absl-py, wrapt, termcolor, tensorflow-estimator, tensorboard, scipy, opt-einsum, keras-preprocessing, h5py, google-pasta, gast, astunparse, tensorflow'},\n",
       " {'offset': 17211, 'text': '  Attempting uninstall: six'},\n",
       " {'offset': 17309, 'text': '    Found existing installation: six 1.11.0'},\n",
       " {'offset': 17423, 'text': '    Uninstalling six-1.11.0:'},\n",
       " {'offset': 17522, 'text': '      Successfully uninstalled six-1.11.0'},\n",
       " {'offset': 17633, 'text': '  Attempting uninstall: setuptools'},\n",
       " {'offset': 17736,\n",
       "  'text': '    Found existing installation: setuptools 39.0.1'},\n",
       " {'offset': 17857, 'text': '    Uninstalling setuptools-39.0.1:'},\n",
       " {'offset': 17963, 'text': '      Successfully uninstalled setuptools-39.0.1'},\n",
       " {'offset': 18082,\n",
       "  'text': 'Successfully installed absl-py-0.13.0 astunparse-1.6.3 cachetools-4.2.2 gast-0.3.3 google-auth-1.32.1 google-auth-oauthlib-0.4.4 google-pasta-0.2.0 grpcio-1.38.1 h5py-2.10.0 keras-preprocessing-1.1.2 markdown-3.3.4 numpy-1.18.5 oauthlib-3.1.1 opt-einsum-3.3.0 protobuf-3.17.3 pyasn1-0.4.8 pyasn1-modules-0.2.8 requests-oauthlib-1.3.0 rsa-4.7.2 scipy-1.4.1 setuptools-57.1.0 six-1.16.0 tensorboard-2.5.0 tensorboard-data-server-0.6.1 tensorboard-plugin-wit-1.8.0 tensorflow-2.3.0 tensorflow-estimator-2.3.0 termcolor-1.1.0 werkzeug-2.0.1 wrapt-1.12.1'},\n",
       " {'offset': 18702,\n",
       "  'text': 'WARNING: You are using pip version 21.0.1; however, version 21.1.3 is available.'},\n",
       " {'offset': 18853,\n",
       "  'text': \"You should consider upgrading via the '/usr/bin/python3 -m pip install --upgrade pip' command.\"},\n",
       " {'offset': 19018, 'text': 'Errors occured when importing xlearn_tools'},\n",
       " {'offset': 19131,\n",
       "  'text': '[Anylearn]-Thu, 15 Jul 2021 01:28:34 - __main__ - ERROR - Errors occured when importing xlearn_tools'},\n",
       " {'offset': 19302, 'text': \"No module named 'xlearn_tools'\"},\n",
       " {'offset': 19403,\n",
       "  'text': \"[Anylearn]-Thu, 15 Jul 2021 01:28:34 - __main__ - ERROR - No module named 'xlearn_tools'\"},\n",
       " {'offset': 19562,\n",
       "  'text': '[Anylearn]-Thu, 15 Jul 2021 01:28:34 - __main__ - ERROR - Errors occured when importing anylearn_tools'},\n",
       " {'offset': 19735, 'text': 'Errors occured when importing anylearn_tools'},\n",
       " {'offset': 19850,\n",
       "  'text': \"cannot import name 'RootClass' from 'anylearn_tools' (/app/anylearn_tools.py)\"},\n",
       " {'offset': 19998,\n",
       "  'text': \"[Anylearn]-Thu, 15 Jul 2021 01:28:34 - __main__ - ERROR - cannot import name 'RootClass' from 'anylearn_tools' (/app/anylearn_tools.py)\"},\n",
       " {'offset': 20204, 'text': 'Task TRAI9c74e4c811eb94189ac5f1637d2a start'},\n",
       " {'offset': 20318,\n",
       "  'text': '[Anylearn]-Thu, 15 Jul 2021 01:28:34 - __main__ - INFO - Task TRAI9c74e4c811eb94189ac5f1637d2a start'},\n",
       " {'offset': 20489,\n",
       "  'text': 'Custom entrypoint: python fashion_mnist.py --batch-size 32 --learning-rate 0.001 --epochs 12 --data-path /storage/dataset/DSET3b9ae2f511ebaba35e9e5b63a5ec '},\n",
       " {'offset': 20715,\n",
       "  'text': '[Anylearn]-Thu, 15 Jul 2021 01:28:34 - __main__ - INFO - Custom entrypoint: python fashion_mnist.py --batch-size 32 --learning-rate 0.001 --epochs 12 --data-path /storage/dataset/DSET3b9ae2f511ebaba35e9e5b63a5ec '},\n",
       " {'offset': 20998,\n",
       "  'text': '2021-07-15 01:28:34.465063: I tensorflow/stream_executor/platform/default/dso_loader.cc:48] Successfully opened dynamic library libcudart.so.10.1'},\n",
       " {'offset': 21213, 'text': ''},\n",
       " {'offset': 21284,\n",
       "  'text': '[Anylearn]-Thu, 15 Jul 2021 01:28:34 - __main__ - INFO - 2021-07-15 01:28:34.465063: I tensorflow/stream_executor/platform/default/dso_loader.cc:48] Successfully opened dynamic library libcudart.so.10.1'},\n",
       " {'offset': 21557, 'text': ''},\n",
       " {'offset': 21628,\n",
       "  'text': '2021-07-15 01:28:35.646661: I tensorflow/stream_executor/platform/default/dso_loader.cc:48] Successfully opened dynamic library libcuda.so.1'},\n",
       " {'offset': 21839, 'text': ''},\n",
       " {'offset': 21909,\n",
       "  'text': '[Anylearn]-Thu, 15 Jul 2021 01:28:35 - __main__ - INFO - 2021-07-15 01:28:35.646661: I tensorflow/stream_executor/platform/default/dso_loader.cc:48] Successfully opened dynamic library libcuda.so.1'},\n",
       " {'offset': 22177, 'text': ''},\n",
       " {'offset': 22248,\n",
       "  'text': '[Anylearn]-Thu, 15 Jul 2021 01:28:35 - __main__ - INFO - 2021-07-15 01:28:35.676171: I tensorflow/core/common_runtime/gpu/gpu_device.cc:1716] Found device 0 with properties: '},\n",
       " {'offset': 22493, 'text': ''},\n",
       " {'offset': 22564,\n",
       "  'text': '2021-07-15 01:28:35.676171: I tensorflow/core/common_runtime/gpu/gpu_device.cc:1716] Found device 0 with properties: '},\n",
       " {'offset': 22752, 'text': ''},\n",
       " {'offset': 22823,\n",
       "  'text': 'pciBusID: 0000:06:00.0 name: Tesla K80 computeCapability: 3.7'},\n",
       " {'offset': 22955, 'text': ''},\n",
       " {'offset': 23026,\n",
       "  'text': '[Anylearn]-Thu, 15 Jul 2021 01:28:35 - __main__ - INFO - pciBusID: 0000:06:00.0 name: Tesla K80 computeCapability: 3.7'},\n",
       " {'offset': 23215, 'text': ''},\n",
       " {'offset': 23286,\n",
       "  'text': '[Anylearn]-Thu, 15 Jul 2021 01:28:35 - __main__ - INFO - coreClock: 0.8235GHz coreCount: 13 deviceMemorySize: 11.17GiB deviceMemoryBandwidth: 223.96GiB/s'},\n",
       " {'offset': 23510, 'text': ''},\n",
       " {'offset': 23581,\n",
       "  'text': 'coreClock: 0.8235GHz coreCount: 13 deviceMemorySize: 11.17GiB deviceMemoryBandwidth: 223.96GiB/s'},\n",
       " {'offset': 23748, 'text': ''},\n",
       " {'offset': 23819,\n",
       "  'text': '[Anylearn]-Thu, 15 Jul 2021 01:28:35 - __main__ - INFO - 2021-07-15 01:28:35.676207: I tensorflow/stream_executor/platform/default/dso_loader.cc:48] Successfully opened dynamic library libcudart.so.10.1'},\n",
       " {'offset': 24092, 'text': ''},\n",
       " {'offset': 24163,\n",
       "  'text': '2021-07-15 01:28:35.676207: I tensorflow/stream_executor/platform/default/dso_loader.cc:48] Successfully opened dynamic library libcudart.so.10.1'},\n",
       " {'offset': 24379, 'text': ''},\n",
       " {'offset': 24450,\n",
       "  'text': '[Anylearn]-Thu, 15 Jul 2021 01:28:35 - __main__ - INFO - 2021-07-15 01:28:35.678271: I tensorflow/stream_executor/platform/default/dso_loader.cc:48] Successfully opened dynamic library libcublas.so.10'},\n",
       " {'offset': 24721, 'text': ''},\n",
       " {'offset': 24791,\n",
       "  'text': '2021-07-15 01:28:35.678271: I tensorflow/stream_executor/platform/default/dso_loader.cc:48] Successfully opened dynamic library libcublas.so.10'},\n",
       " {'offset': 25005, 'text': ''},\n",
       " {'offset': 25076,\n",
       "  'text': '2021-07-15 01:28:35.680218: I tensorflow/stream_executor/platform/default/dso_loader.cc:48] Successfully opened dynamic library libcufft.so.10'},\n",
       " {'offset': 25289, 'text': ''},\n",
       " {'offset': 25360,\n",
       "  'text': '[Anylearn]-Thu, 15 Jul 2021 01:28:35 - __main__ - INFO - 2021-07-15 01:28:35.680218: I tensorflow/stream_executor/platform/default/dso_loader.cc:48] Successfully opened dynamic library libcufft.so.10'},\n",
       " {'offset': 25629, 'text': ''},\n",
       " {'offset': 25700,\n",
       "  'text': '[Anylearn]-Thu, 15 Jul 2021 01:28:35 - __main__ - INFO - 2021-07-15 01:28:35.680563: I tensorflow/stream_executor/platform/default/dso_loader.cc:48] Successfully opened dynamic library libcurand.so.10'},\n",
       " {'offset': 25971, 'text': ''},\n",
       " {'offset': 26042,\n",
       "  'text': '2021-07-15 01:28:35.680563: I tensorflow/stream_executor/platform/default/dso_loader.cc:48] Successfully opened dynamic library libcurand.so.10'},\n",
       " {'offset': 26256, 'text': ''},\n",
       " {'offset': 26327,\n",
       "  'text': '2021-07-15 01:28:35.682658: I tensorflow/stream_executor/platform/default/dso_loader.cc:48] Successfully opened dynamic library libcusolver.so.10'},\n",
       " {'offset': 26542, 'text': ''},\n",
       " {'offset': 26613,\n",
       "  'text': '[Anylearn]-Thu, 15 Jul 2021 01:28:35 - __main__ - INFO - 2021-07-15 01:28:35.682658: I tensorflow/stream_executor/platform/default/dso_loader.cc:48] Successfully opened dynamic library libcusolver.so.10'},\n",
       " {'offset': 26886, 'text': ''},\n",
       " {'offset': 26957,\n",
       "  'text': '[Anylearn]-Thu, 15 Jul 2021 01:28:35 - __main__ - INFO - 2021-07-15 01:28:35.683803: I tensorflow/stream_executor/platform/default/dso_loader.cc:48] Successfully opened dynamic library libcusparse.so.10'},\n",
       " {'offset': 27230, 'text': ''},\n",
       " {'offset': 27301,\n",
       "  'text': '2021-07-15 01:28:35.683803: I tensorflow/stream_executor/platform/default/dso_loader.cc:48] Successfully opened dynamic library libcusparse.so.10'},\n",
       " {'offset': 27517, 'text': ''},\n",
       " {'offset': 27588,\n",
       "  'text': '2021-07-15 01:28:35.688346: I tensorflow/stream_executor/platform/default/dso_loader.cc:48] Successfully opened dynamic library libcudnn.so.7'},\n",
       " {'offset': 27800, 'text': ''},\n",
       " {'offset': 27870,\n",
       "  'text': '[Anylearn]-Thu, 15 Jul 2021 01:28:35 - __main__ - INFO - 2021-07-15 01:28:35.688346: I tensorflow/stream_executor/platform/default/dso_loader.cc:48] Successfully opened dynamic library libcudnn.so.7'},\n",
       " {'offset': 28139, 'text': ''},\n",
       " {'offset': 28210,\n",
       "  'text': '[Anylearn]-Thu, 15 Jul 2021 01:28:35 - __main__ - INFO - 2021-07-15 01:28:35.690647: I tensorflow/core/common_runtime/gpu/gpu_device.cc:1858] Adding visible gpu devices: 0'},\n",
       " {'offset': 28452, 'text': ''},\n",
       " {'offset': 28523,\n",
       "  'text': '2021-07-15 01:28:35.690647: I tensorflow/core/common_runtime/gpu/gpu_device.cc:1858] Adding visible gpu devices: 0'},\n",
       " {'offset': 28708, 'text': ''},\n",
       " {'offset': 28779,\n",
       "  'text': '2021-07-15 01:28:36.362643: I tensorflow/core/platform/cpu_feature_guard.cc:142] This TensorFlow binary is optimized with oneAPI Deep Neural Network Library (oneDNN)to use the following CPU instructions in performance-critical operations:  AVX2 FMA'},\n",
       " {'offset': 29098, 'text': ''},\n",
       " {'offset': 29168,\n",
       "  'text': '[Anylearn]-Thu, 15 Jul 2021 01:28:36 - __main__ - INFO - 2021-07-15 01:28:36.362643: I tensorflow/core/platform/cpu_feature_guard.cc:142] This TensorFlow binary is optimized with oneAPI Deep Neural Network Library (oneDNN)to use the following CPU instructions in performance-critical operations:  AVX2 FMA'},\n",
       " {'offset': 29543, 'text': ''},\n",
       " {'offset': 29614,\n",
       "  'text': 'To enable them in other operations, rebuild TensorFlow with the appropriate compiler flags.'},\n",
       " {'offset': 29776, 'text': ''},\n",
       " {'offset': 29847,\n",
       "  'text': '[Anylearn]-Thu, 15 Jul 2021 01:28:36 - __main__ - INFO - To enable them in other operations, rebuild TensorFlow with the appropriate compiler flags.'},\n",
       " {'offset': 30066, 'text': ''},\n",
       " {'offset': 30137,\n",
       "  'text': '[Anylearn]-Thu, 15 Jul 2021 01:28:36 - __main__ - INFO - 2021-07-15 01:28:36.392592: I tensorflow/core/platform/profile_utils/cpu_utils.cc:104] CPU Frequency: 2199985000 Hz'},\n",
       " {'offset': 30380, 'text': ''},\n",
       " {'offset': 30451,\n",
       "  'text': '2021-07-15 01:28:36.392592: I tensorflow/core/platform/profile_utils/cpu_utils.cc:104] CPU Frequency: 2199985000 Hz'},\n",
       " {'offset': 30637, 'text': ''},\n",
       " {'offset': 30708,\n",
       "  'text': '2021-07-15 01:28:36.395939: I tensorflow/compiler/xla/service/service.cc:168] XLA service 0x561a83e4bb30 initialized for platform Host (this does not guarantee that XLA will be used). Devices:'},\n",
       " {'offset': 30971, 'text': ''},\n",
       " {'offset': 31042,\n",
       "  'text': '[Anylearn]-Thu, 15 Jul 2021 01:28:36 - __main__ - INFO - 2021-07-15 01:28:36.395939: I tensorflow/compiler/xla/service/service.cc:168] XLA service 0x561a83e4bb30 initialized for platform Host (this does not guarantee that XLA will be used). Devices:'},\n",
       " {'offset': 31362, 'text': ''},\n",
       " {'offset': 31433,\n",
       "  'text': '2021-07-15 01:28:36.395970: I tensorflow/compiler/xla/service/service.cc:176]   StreamExecutor device (0): Host, Default Version'},\n",
       " {'offset': 31631, 'text': ''},\n",
       " {'offset': 31701,\n",
       "  'text': '[Anylearn]-Thu, 15 Jul 2021 01:28:36 - __main__ - INFO - 2021-07-15 01:28:36.395970: I tensorflow/compiler/xla/service/service.cc:176]   StreamExecutor device (0): Host, Default Version'},\n",
       " {'offset': 31956, 'text': ''},\n",
       " {'offset': 32026,\n",
       "  'text': '2021-07-15 01:28:36.472833: I tensorflow/compiler/xla/service/service.cc:168] XLA service 0x561a83eb7a50 initialized for platform CUDA (this does not guarantee that XLA will be used). Devices:'},\n",
       " {'offset': 32289, 'text': ''},\n",
       " {'offset': 32360,\n",
       "  'text': '[Anylearn]-Thu, 15 Jul 2021 01:28:36 - __main__ - INFO - 2021-07-15 01:28:36.472833: I tensorflow/compiler/xla/service/service.cc:168] XLA service 0x561a83eb7a50 initialized for platform CUDA (this does not guarantee that XLA will be used). Devices:'},\n",
       " {'offset': 32680, 'text': ''},\n",
       " {'offset': 32751,\n",
       "  'text': '2021-07-15 01:28:36.472884: I tensorflow/compiler/xla/service/service.cc:176]   StreamExecutor device (0): Tesla K80, Compute Capability 3.7'},\n",
       " {'offset': 32962, 'text': ''},\n",
       " {'offset': 33033,\n",
       "  'text': '[Anylearn]-Thu, 15 Jul 2021 01:28:36 - __main__ - INFO - 2021-07-15 01:28:36.472884: I tensorflow/compiler/xla/service/service.cc:176]   StreamExecutor device (0): Tesla K80, Compute Capability 3.7'},\n",
       " {'offset': 33300, 'text': ''},\n",
       " {'offset': 33370,\n",
       "  'text': '2021-07-15 01:28:36.475042: I tensorflow/core/common_runtime/gpu/gpu_device.cc:1716] Found device 0 with properties: '},\n",
       " {'offset': 33558, 'text': ''},\n",
       " {'offset': 33629,\n",
       "  'text': '[Anylearn]-Thu, 15 Jul 2021 01:28:36 - __main__ - INFO - 2021-07-15 01:28:36.475042: I tensorflow/core/common_runtime/gpu/gpu_device.cc:1716] Found device 0 with properties: '},\n",
       " {'offset': 33874, 'text': ''},\n",
       " {'offset': 33945,\n",
       "  'text': 'pciBusID: 0000:06:00.0 name: Tesla K80 computeCapability: 3.7'},\n",
       " {'offset': 34077, 'text': ''},\n",
       " {'offset': 34147,\n",
       "  'text': '[Anylearn]-Thu, 15 Jul 2021 01:28:36 - __main__ - INFO - pciBusID: 0000:06:00.0 name: Tesla K80 computeCapability: 3.7'},\n",
       " {'offset': 34336, 'text': ''},\n",
       " {'offset': 34407,\n",
       "  'text': 'coreClock: 0.8235GHz coreCount: 13 deviceMemorySize: 11.17GiB deviceMemoryBandwidth: 223.96GiB/s'},\n",
       " {'offset': 34574, 'text': ''},\n",
       " {'offset': 34645,\n",
       "  'text': '[Anylearn]-Thu, 15 Jul 2021 01:28:36 - __main__ - INFO - coreClock: 0.8235GHz coreCount: 13 deviceMemorySize: 11.17GiB deviceMemoryBandwidth: 223.96GiB/s'},\n",
       " {'offset': 34869, 'text': ''},\n",
       " {'offset': 34940,\n",
       "  'text': '[Anylearn]-Thu, 15 Jul 2021 01:28:36 - __main__ - INFO - 2021-07-15 01:28:36.475104: I tensorflow/stream_executor/platform/default/dso_loader.cc:48] Successfully opened dynamic library libcudart.so.10.1'},\n",
       " {'offset': 35213, 'text': ''},\n",
       " {'offset': 35284,\n",
       "  'text': '2021-07-15 01:28:36.475104: I tensorflow/stream_executor/platform/default/dso_loader.cc:48] Successfully opened dynamic library libcudart.so.10.1'},\n",
       " {'offset': 35500, 'text': ''},\n",
       " {'offset': 35571,\n",
       "  'text': '[Anylearn]-Thu, 15 Jul 2021 01:28:36 - __main__ - INFO - 2021-07-15 01:28:36.475129: I tensorflow/stream_executor/platform/default/dso_loader.cc:48] Successfully opened dynamic library libcublas.so.10'},\n",
       " {'offset': 35842, 'text': ''},\n",
       " {'offset': 35913,\n",
       "  'text': '2021-07-15 01:28:36.475129: I tensorflow/stream_executor/platform/default/dso_loader.cc:48] Successfully opened dynamic library libcublas.so.10'},\n",
       " {'offset': 36127, 'text': ''},\n",
       " {'offset': 36198,\n",
       "  'text': '2021-07-15 01:28:36.475145: I tensorflow/stream_executor/platform/default/dso_loader.cc:48] Successfully opened dynamic library libcufft.so.10'},\n",
       " {'offset': 36411, 'text': ''},\n",
       " {'offset': 36482,\n",
       "  'text': '[Anylearn]-Thu, 15 Jul 2021 01:28:36 - __main__ - INFO - 2021-07-15 01:28:36.475145: I tensorflow/stream_executor/platform/default/dso_loader.cc:48] Successfully opened dynamic library libcufft.so.10'},\n",
       " {'offset': 36751, 'text': ''},\n",
       " {'offset': 36822,\n",
       "  'text': '2021-07-15 01:28:36.475161: I tensorflow/stream_executor/platform/default/dso_loader.cc:48] Successfully opened dynamic library libcurand.so.10'},\n",
       " {'offset': 37036, 'text': ''},\n",
       " {'offset': 37107,\n",
       "  'text': '[Anylearn]-Thu, 15 Jul 2021 01:28:36 - __main__ - INFO - 2021-07-15 01:28:36.475161: I tensorflow/stream_executor/platform/default/dso_loader.cc:48] Successfully opened dynamic library libcurand.so.10'},\n",
       " {'offset': 37378, 'text': ''},\n",
       " {'offset': 37449,\n",
       "  'text': '2021-07-15 01:28:36.475176: I tensorflow/stream_executor/platform/default/dso_loader.cc:48] Successfully opened dynamic library libcusolver.so.10'},\n",
       " {'offset': 37664, 'text': ''},\n",
       " {'offset': 37734,\n",
       "  'text': '[Anylearn]-Thu, 15 Jul 2021 01:28:36 - __main__ - INFO - 2021-07-15 01:28:36.475176: I tensorflow/stream_executor/platform/default/dso_loader.cc:48] Successfully opened dynamic library libcusolver.so.10'},\n",
       " {'offset': 38007, 'text': ''},\n",
       " {'offset': 38078,\n",
       "  'text': '[Anylearn]-Thu, 15 Jul 2021 01:28:36 - __main__ - INFO - 2021-07-15 01:28:36.475192: I tensorflow/stream_executor/platform/default/dso_loader.cc:48] Successfully opened dynamic library libcusparse.so.10'},\n",
       " {'offset': 38351, 'text': ''},\n",
       " {'offset': 38422,\n",
       "  'text': '2021-07-15 01:28:36.475192: I tensorflow/stream_executor/platform/default/dso_loader.cc:48] Successfully opened dynamic library libcusparse.so.10'},\n",
       " {'offset': 38638, 'text': ''},\n",
       " {'offset': 38709,\n",
       "  'text': '2021-07-15 01:28:36.475207: I tensorflow/stream_executor/platform/default/dso_loader.cc:48] Successfully opened dynamic library libcudnn.so.7'},\n",
       " {'offset': 38921, 'text': ''},\n",
       " {'offset': 38992,\n",
       "  'text': '[Anylearn]-Thu, 15 Jul 2021 01:28:36 - __main__ - INFO - 2021-07-15 01:28:36.475207: I tensorflow/stream_executor/platform/default/dso_loader.cc:48] Successfully opened dynamic library libcudnn.so.7'},\n",
       " {'offset': 39261, 'text': ''},\n",
       " {'offset': 39332,\n",
       "  'text': '2021-07-15 01:28:36.479078: I tensorflow/core/common_runtime/gpu/gpu_device.cc:1858] Adding visible gpu devices: 0'},\n",
       " {'offset': 39517, 'text': ''},\n",
       " {'offset': 39588,\n",
       "  'text': '[Anylearn]-Thu, 15 Jul 2021 01:28:36 - __main__ - INFO - 2021-07-15 01:28:36.479078: I tensorflow/core/common_runtime/gpu/gpu_device.cc:1858] Adding visible gpu devices: 0'},\n",
       " {'offset': 39830, 'text': ''},\n",
       " {'offset': 39900,\n",
       "  'text': '[Anylearn]-Thu, 15 Jul 2021 01:28:36 - __main__ - INFO - 2021-07-15 01:28:36.479138: I tensorflow/stream_executor/platform/default/dso_loader.cc:48] Successfully opened dynamic library libcudart.so.10.1'},\n",
       " {'offset': 40173, 'text': ''},\n",
       " {'offset': 40244,\n",
       "  'text': '2021-07-15 01:28:36.479138: I tensorflow/stream_executor/platform/default/dso_loader.cc:48] Successfully opened dynamic library libcudart.so.10.1'},\n",
       " {'offset': 40460, 'text': ''},\n",
       " {'offset': 40531,\n",
       "  'text': '2021-07-15 01:28:36.982496: I tensorflow/core/common_runtime/gpu/gpu_device.cc:1257] Device interconnect StreamExecutor with strength 1 edge matrix:'},\n",
       " {'offset': 40750, 'text': ''},\n",
       " {'offset': 40821,\n",
       "  'text': '[Anylearn]-Thu, 15 Jul 2021 01:28:36 - __main__ - INFO - 2021-07-15 01:28:36.982496: I tensorflow/core/common_runtime/gpu/gpu_device.cc:1257] Device interconnect StreamExecutor with strength 1 edge matrix:'},\n",
       " {'offset': 41096, 'text': ''},\n",
       " {'offset': 41167,\n",
       "  'text': '2021-07-15 01:28:36.982543: I tensorflow/core/common_runtime/gpu/gpu_device.cc:1263]      0 '},\n",
       " {'offset': 41330, 'text': ''},\n",
       " {'offset': 41401,\n",
       "  'text': '[Anylearn]-Thu, 15 Jul 2021 01:28:36 - __main__ - INFO - 2021-07-15 01:28:36.982543: I tensorflow/core/common_runtime/gpu/gpu_device.cc:1263]      0 '},\n",
       " {'offset': 41620, 'text': ''},\n",
       " {'offset': 41691,\n",
       "  'text': '2021-07-15 01:28:36.982550: I tensorflow/core/common_runtime/gpu/gpu_device.cc:1276] 0:   N '},\n",
       " {'offset': 41854, 'text': ''},\n",
       " {'offset': 41924,\n",
       "  'text': '[Anylearn]-Thu, 15 Jul 2021 01:28:36 - __main__ - INFO - 2021-07-15 01:28:36.982550: I tensorflow/core/common_runtime/gpu/gpu_device.cc:1276] 0:   N '},\n",
       " {'offset': 42144, 'text': ''},\n",
       " {'offset': 42215,\n",
       "  'text': '[Anylearn]-Thu, 15 Jul 2021 01:28:36 - __main__ - INFO - 2021-07-15 01:28:36.984978: I tensorflow/core/common_runtime/gpu/gpu_device.cc:1402] Created TensorFlow device (/job:localhost/replica:0/task:0/device:GPU:0 with 10617 MB memory) -> physical GPU (device: 0, name: Tesla K80, pci bus id: 0000:06:00.0, compute capability: 3.7)'},\n",
       " {'offset': 42622, 'text': ''},\n",
       " {'offset': 42692,\n",
       "  'text': '2021-07-15 01:28:36.984978: I tensorflow/core/common_runtime/gpu/gpu_device.cc:1402] Created TensorFlow device (/job:localhost/replica:0/task:0/device:GPU:0 with 10617 MB memory) -> physical GPU (device: 0, name: Tesla K80, pci bus id: 0000:06:00.0, compute capability: 3.7)'},\n",
       " {'offset': 43042, 'text': ''},\n",
       " {'offset': 43113,\n",
       "  'text': '2021-07-15 01:28:37.631921: I tensorflow/core/profiler/lib/profiler_session.cc:164] Profiler session started.'},\n",
       " {'offset': 43293, 'text': ''},\n",
       " {'offset': 43364,\n",
       "  'text': '[Anylearn]-Thu, 15 Jul 2021 01:28:37 - __main__ - INFO - 2021-07-15 01:28:37.631921: I tensorflow/core/profiler/lib/profiler_session.cc:164] Profiler session started.'},\n",
       " {'offset': 43600, 'text': ''},\n",
       " {'offset': 43671,\n",
       "  'text': '2021-07-15 01:28:37.631997: I tensorflow/core/profiler/internal/gpu/cupti_tracer.cc:1391] Profiler found 1 GPUs'},\n",
       " {'offset': 43853, 'text': ''},\n",
       " {'offset': 43924,\n",
       "  'text': '[Anylearn]-Thu, 15 Jul 2021 01:28:37 - __main__ - INFO - 2021-07-15 01:28:37.631997: I tensorflow/core/profiler/internal/gpu/cupti_tracer.cc:1391] Profiler found 1 GPUs'},\n",
       " {'offset': 44163, 'text': ''},\n",
       " {'offset': 44234,\n",
       "  'text': \"2021-07-15 01:28:37.632972: W tensorflow/stream_executor/platform/default/dso_loader.cc:59] Could not load dynamic library 'libcupti.so.10.1'; dlerror: libcupti.so.10.1: cannot open shared object file: No such file or directory; LD_LIBRARY_PATH: /usr/local/nvidia/lib:/usr/local/nvidia/lib64\"},\n",
       " {'offset': 44596, 'text': ''},\n",
       " {'offset': 44666,\n",
       "  'text': \"[Anylearn]-Thu, 15 Jul 2021 01:28:37 - __main__ - INFO - 2021-07-15 01:28:37.632972: W tensorflow/stream_executor/platform/default/dso_loader.cc:59] Could not load dynamic library 'libcupti.so.10.1'; dlerror: libcupti.so.10.1: cannot open shared object file: No such file or directory; LD_LIBRARY_PATH: /usr/local/nvidia/lib:/usr/local/nvidia/lib64\"},\n",
       " {'offset': 45085, 'text': ''},\n",
       " {'offset': 45156,\n",
       "  'text': \"[Anylearn]-Thu, 15 Jul 2021 01:28:37 - __main__ - INFO - 2021-07-15 01:28:37.633057: W tensorflow/stream_executor/platform/default/dso_loader.cc:59] Could not load dynamic library 'libcupti.so'; dlerror: libcupti.so: cannot open shared object file: No such file or directory; LD_LIBRARY_PATH: /usr/local/nvidia/lib:/usr/local/nvidia/lib64\"},\n",
       " {'offset': 45565, 'text': ''},\n",
       " {'offset': 45636,\n",
       "  'text': \"2021-07-15 01:28:37.633057: W tensorflow/stream_executor/platform/default/dso_loader.cc:59] Could not load dynamic library 'libcupti.so'; dlerror: libcupti.so: cannot open shared object file: No such file or directory; LD_LIBRARY_PATH: /usr/local/nvidia/lib:/usr/local/nvidia/lib64\"},\n",
       " {'offset': 45988, 'text': ''},\n",
       " {'offset': 46059,\n",
       "  'text': '[Anylearn]-Thu, 15 Jul 2021 01:28:37 - __main__ - INFO - 2021-07-15 01:28:37.633068: E tensorflow/core/profiler/internal/gpu/cupti_tracer.cc:1441] function cupti_interface_->Subscribe( &subscriber_, (CUpti_CallbackFunc)ApiCallback, this)failed with error CUPTI could not be loaded or symbol could not be found.'},\n",
       " {'offset': 46450, 'text': ''},\n",
       " {'offset': 46521,\n",
       "  'text': '2021-07-15 01:28:37.633068: E tensorflow/core/profiler/internal/gpu/cupti_tracer.cc:1441] function cupti_interface_->Subscribe( &subscriber_, (CUpti_CallbackFunc)ApiCallback, this)failed with error CUPTI could not be loaded or symbol could not be found.'},\n",
       " {'offset': 46855, 'text': ''},\n",
       " {'offset': 46926,\n",
       "  'text': '2021-07-15 01:28:38.628653: I tensorflow/stream_executor/platform/default/dso_loader.cc:48] Successfully opened dynamic library libcublas.so.10'},\n",
       " {'offset': 47139, 'text': ''},\n",
       " {'offset': 47210,\n",
       "  'text': '[Anylearn]-Thu, 15 Jul 2021 01:28:38 - __main__ - INFO - 2021-07-15 01:28:38.628653: I tensorflow/stream_executor/platform/default/dso_loader.cc:48] Successfully opened dynamic library libcublas.so.10'},\n",
       " {'offset': 47481, 'text': ''},\n",
       " {'offset': 47552,\n",
       "  'text': '2021-07-15 01:28:38.894220: I tensorflow/stream_executor/platform/default/dso_loader.cc:48] Successfully opened dynamic library libcudnn.so.7'},\n",
       " {'offset': 47764, 'text': ''},\n",
       " {'offset': 47835,\n",
       "  'text': '[Anylearn]-Thu, 15 Jul 2021 01:28:38 - __main__ - INFO - 2021-07-15 01:28:38.894220: I tensorflow/stream_executor/platform/default/dso_loader.cc:48] Successfully opened dynamic library libcudnn.so.7'},\n",
       " {'offset': 48104, 'text': ''},\n",
       " {'offset': 48175,\n",
       "  'text': '2021-07-15 01:28:39.536200: W tensorflow/stream_executor/gpu/asm_compiler.cc:81] Running ptxas --version returned 256'},\n",
       " {'offset': 48363, 'text': ''},\n",
       " {'offset': 48434,\n",
       "  'text': '[Anylearn]-Thu, 15 Jul 2021 01:28:39 - __main__ - INFO - 2021-07-15 01:28:39.536200: W tensorflow/stream_executor/gpu/asm_compiler.cc:81] Running ptxas --version returned 256'},\n",
       " {'offset': 48679, 'text': ''},\n",
       " {'offset': 48750,\n",
       "  'text': '2021-07-15 01:28:39.595469: W tensorflow/stream_executor/gpu/redzone_allocator.cc:314] Internal: ptxas exited with non-zero error code 256, output: '},\n",
       " {'offset': 48969, 'text': ''},\n",
       " {'offset': 49039,\n",
       "  'text': '[Anylearn]-Thu, 15 Jul 2021 01:28:39 - __main__ - INFO - 2021-07-15 01:28:39.595469: W tensorflow/stream_executor/gpu/redzone_allocator.cc:314] Internal: ptxas exited with non-zero error code 256, output: '},\n",
       " {'offset': 49315, 'text': ''},\n",
       " {'offset': 49386, 'text': 'Relying on driver to perform ptx compilation. '},\n",
       " {'offset': 49503, 'text': ''},\n",
       " {'offset': 49573,\n",
       "  'text': '[Anylearn]-Thu, 15 Jul 2021 01:28:39 - __main__ - INFO - Relying on driver to perform ptx compilation. '},\n",
       " {'offset': 49747, 'text': ''},\n",
       " {'offset': 49818, 'text': 'Modify $PATH to customize ptxas location.'},\n",
       " {'offset': 49930, 'text': ''},\n",
       " {'offset': 50001,\n",
       "  'text': '[Anylearn]-Thu, 15 Jul 2021 01:28:39 - __main__ - INFO - Modify $PATH to customize ptxas location.'},\n",
       " {'offset': 50170, 'text': ''},\n",
       " {'offset': 50241, 'text': 'This message will be only logged once.'},\n",
       " {'offset': 50350, 'text': ''},\n",
       " {'offset': 50421,\n",
       "  'text': '[Anylearn]-Thu, 15 Jul 2021 01:28:39 - __main__ - INFO - This message will be only logged once.'},\n",
       " {'offset': 50587, 'text': ''},\n",
       " {'offset': 50658, 'text': 'Epoch 1/12'},\n",
       " {'offset': 50739, 'text': ''},\n",
       " {'offset': 50810,\n",
       "  'text': '[Anylearn]-Thu, 15 Jul 2021 01:28:43 - __main__ - INFO - Epoch 1/12'},\n",
       " {'offset': 50948, 'text': ''},\n",
       " {'offset': 51019,\n",
       "  'text': '   1/1875 [..............................] - ETA: 0s - loss: 2.3333 - accuracy: 0.03122021-07-15 01:28:43.108409: I tensorflow/core/profiler/lib/profiler_session.cc:164] Profiler session started.'},\n",
       " {'offset': 51287, 'text': ''},\n",
       " {'offset': 51358,\n",
       "  'text': '   1/1875 [..............................] - ETA: 0s - loss: 2.3333 - accuracy: 0.03122021-07-15 01:28:43.108409: I tensorflow/core/profiler/lib/profiler_session.cc:164] Profiler session started.'},\n",
       " {'offset': 51683, 'text': ''},\n",
       " {'offset': 51754,\n",
       "  'text': '2021-07-15 01:28:43.108531: E tensorflow/core/profiler/internal/gpu/cupti_tracer.cc:1441] function cupti_interface_->Subscribe( &subscriber_, (CUpti_CallbackFunc)ApiCallback, this)failed with error CUPTI could not be loaded or symbol could not be found.'},\n",
       " {'offset': 52088, 'text': ''},\n",
       " {'offset': 52159,\n",
       "  'text': '[Anylearn]-Thu, 15 Jul 2021 01:28:43 - __main__ - INFO - 2021-07-15 01:28:43.108531: E tensorflow/core/profiler/internal/gpu/cupti_tracer.cc:1441] function cupti_interface_->Subscribe( &subscriber_, (CUpti_CallbackFunc)ApiCallback, this)failed with error CUPTI could not be loaded or symbol could not be found.'},\n",
       " {'offset': 52550, 'text': ''},\n",
       " {'offset': 52621,\n",
       "  'text': 'WARNING:tensorflow:From /usr/local/lib/python3.7/dist-packages/tensorflow/python/ops/summary_ops_v2.py:1277: stop (from tensorflow.python.eager.profiler) is deprecated and will be removed after 2020-07-01.'},\n",
       " {'offset': 52897, 'text': ''},\n",
       " {'offset': 52968,\n",
       "  'text': '[Anylearn]-Thu, 15 Jul 2021 01:28:43 - __main__ - INFO - WARNING:tensorflow:From /usr/local/lib/python3.7/dist-packages/tensorflow/python/ops/summary_ops_v2.py:1277: stop (from tensorflow.python.eager.profiler) is deprecated and will be removed after 2020-07-01.'},\n",
       " {'offset': 53301, 'text': ''},\n",
       " {'offset': 53372, 'text': 'Instructions for updating:'},\n",
       " {'offset': 53469,\n",
       "  'text': '[Anylearn]-Thu, 15 Jul 2021 01:28:43 - __main__ - INFO - Instructions for updating:'},\n",
       " {'offset': 53623, 'text': ''},\n",
       " {'offset': 53694, 'text': ''},\n",
       " {'offset': 53765, 'text': 'use `tf.profiler.experimental.stop` instead.'},\n",
       " {'offset': 53880, 'text': ''},\n",
       " {'offset': 53951,\n",
       "  'text': '[Anylearn]-Thu, 15 Jul 2021 01:28:43 - __main__ - INFO - use `tf.profiler.experimental.stop` instead.'},\n",
       " {'offset': 54123, 'text': ''},\n",
       " {'offset': 54194,\n",
       "  'text': '2021-07-15 01:28:43.121292: I tensorflow/core/profiler/internal/gpu/device_tracer.cc:223]  GpuTracer has collected 0 callback api events and 0 activity events. '},\n",
       " {'offset': 54424, 'text': ''},\n",
       " {'offset': 54495,\n",
       "  'text': '[Anylearn]-Thu, 15 Jul 2021 01:28:43 - __main__ - INFO - 2021-07-15 01:28:43.121292: I tensorflow/core/profiler/internal/gpu/device_tracer.cc:223]  GpuTracer has collected 0 callback api events and 0 activity events. '},\n",
       " {'offset': 54783, 'text': ''},\n",
       " {'offset': 54854,\n",
       "  'text': '2021-07-15 01:28:43.124606: I tensorflow/core/profiler/rpc/client/save_profile.cc:176] Creating directory: ./logs/train/plugins/profile/2021_07_15_01_28_43'},\n",
       " {'offset': 55079, 'text': ''},\n",
       " {'offset': 55150,\n",
       "  'text': '[Anylearn]-Thu, 15 Jul 2021 01:28:43 - __main__ - INFO - 2021-07-15 01:28:43.124606: I tensorflow/core/profiler/rpc/client/save_profile.cc:176] Creating directory: ./logs/train/plugins/profile/2021_07_15_01_28_43'},\n",
       " {'offset': 55433, 'text': ''},\n",
       " {'offset': 55504,\n",
       "  'text': '2021-07-15 01:28:43.125376: I tensorflow/core/profiler/rpc/client/save_profile.cc:182] Dumped gzipped tool data for trace.json.gz to ./logs/train/plugins/profile/2021_07_15_01_28_43/job-trai9c74e4c811eb94189ac5f1637d2a-x4dxd.trace.json.gz'},\n",
       " {'offset': 55813, 'text': ''},\n",
       " {'offset': 55884,\n",
       "  'text': '[Anylearn]-Thu, 15 Jul 2021 01:28:43 - __main__ - INFO - 2021-07-15 01:28:43.125376: I tensorflow/core/profiler/rpc/client/save_profile.cc:182] Dumped gzipped tool data for trace.json.gz to ./logs/train/plugins/profile/2021_07_15_01_28_43/job-trai9c74e4c811eb94189ac5f1637d2a-x4dxd.trace.json.gz'},\n",
       " {'offset': 56250, 'text': ''},\n",
       " {'offset': 56321,\n",
       "  'text': '2021-07-15 01:28:43.131955: I tensorflow/core/profiler/rpc/client/save_profile.cc:176] Creating directory: ./logs/train/plugins/profile/2021_07_15_01_28_43'},\n",
       " {'offset': 56547, 'text': ''},\n",
       " {'offset': 56618,\n",
       "  'text': '[Anylearn]-Thu, 15 Jul 2021 01:28:43 - __main__ - INFO - 2021-07-15 01:28:43.131955: I tensorflow/core/profiler/rpc/client/save_profile.cc:176] Creating directory: ./logs/train/plugins/profile/2021_07_15_01_28_43'},\n",
       " {'offset': 56901, 'text': ''},\n",
       " {'offset': 56972,\n",
       "  'text': '2021-07-15 01:28:43.133118: I tensorflow/core/profiler/rpc/client/save_profile.cc:182] Dumped gzipped tool data for memory_profile.json.gz to ./logs/train/plugins/profile/2021_07_15_01_28_43/job-trai9c74e4c811eb94189ac5f1637d2a-x4dxd.memory_profile.json.gz'},\n",
       " {'offset': 57299, 'text': ''},\n",
       " {'offset': 57370,\n",
       "  'text': '[Anylearn]-Thu, 15 Jul 2021 01:28:43 - __main__ - INFO - 2021-07-15 01:28:43.133118: I tensorflow/core/profiler/rpc/client/save_profile.cc:182] Dumped gzipped tool data for memory_profile.json.gz to ./logs/train/plugins/profile/2021_07_15_01_28_43/job-trai9c74e4c811eb94189ac5f1637d2a-x4dxd.memory_profile.json.gz'},\n",
       " {'offset': 57754, 'text': ''},\n",
       " {'offset': 57824,\n",
       "  'text': '2021-07-15 01:28:43.133423: I tensorflow/python/profiler/internal/profiler_wrapper.cc:111] Creating directory: ./logs/train/plugins/profile/2021_07_15_01_28_43Dumped tool data for xplane.pb to ./logs/train/plugins/profile/2021_07_15_01_28_43/job-trai9c74e4c811eb94189ac5f1637d2a-x4dxd.xplane.pb'},\n",
       " {'offset': 58188, 'text': ''},\n",
       " {'offset': 58259,\n",
       "  'text': '[Anylearn]-Thu, 15 Jul 2021 01:28:43 - __main__ - INFO - 2021-07-15 01:28:43.133423: I tensorflow/python/profiler/internal/profiler_wrapper.cc:111] Creating directory: ./logs/train/plugins/profile/2021_07_15_01_28_43Dumped tool data for xplane.pb to ./logs/train/plugins/profile/2021_07_15_01_28_43/job-trai9c74e4c811eb94189ac5f1637d2a-x4dxd.xplane.pb'},\n",
       " {'offset': 58681, 'text': ''},\n",
       " {'offset': 58752,\n",
       "  'text': 'Dumped tool data for overview_page.pb to ./logs/train/plugins/profile/2021_07_15_01_28_43/job-trai9c74e4c811eb94189ac5f1637d2a-x4dxd.overview_page.pb'},\n",
       " {'offset': 58972, 'text': ''},\n",
       " {'offset': 59043,\n",
       "  'text': '[Anylearn]-Thu, 15 Jul 2021 01:28:43 - __main__ - INFO - Dumped tool data for overview_page.pb to ./logs/train/plugins/profile/2021_07_15_01_28_43/job-trai9c74e4c811eb94189ac5f1637d2a-x4dxd.overview_page.pb'},\n",
       " {'offset': 59320, 'text': ''},\n",
       " {'offset': 59391,\n",
       "  'text': 'Dumped tool data for input_pipeline.pb to ./logs/train/plugins/profile/2021_07_15_01_28_43/job-trai9c74e4c811eb94189ac5f1637d2a-x4dxd.input_pipeline.pb'},\n",
       " {'offset': 59613, 'text': ''},\n",
       " {'offset': 59684,\n",
       "  'text': '[Anylearn]-Thu, 15 Jul 2021 01:28:43 - __main__ - INFO - Dumped tool data for input_pipeline.pb to ./logs/train/plugins/profile/2021_07_15_01_28_43/job-trai9c74e4c811eb94189ac5f1637d2a-x4dxd.input_pipeline.pb'},\n",
       " {'offset': 59963, 'text': ''},\n",
       " {'offset': 60034,\n",
       "  'text': 'Dumped tool data for tensorflow_stats.pb to ./logs/train/plugins/profile/2021_07_15_01_28_43/job-trai9c74e4c811eb94189ac5f1637d2a-x4dxd.tensorflow_stats.pb'},\n",
       " {'offset': 60260, 'text': ''},\n",
       " {'offset': 60331,\n",
       "  'text': '[Anylearn]-Thu, 15 Jul 2021 01:28:43 - __main__ - INFO - Dumped tool data for tensorflow_stats.pb to ./logs/train/plugins/profile/2021_07_15_01_28_43/job-trai9c74e4c811eb94189ac5f1637d2a-x4dxd.tensorflow_stats.pb'},\n",
       " {'offset': 60614, 'text': ''},\n",
       " {'offset': 60685,\n",
       "  'text': 'Dumped tool data for kernel_stats.pb to ./logs/train/plugins/profile/2021_07_15_01_28_43/job-trai9c74e4c811eb94189ac5f1637d2a-x4dxd.kernel_stats.pb'},\n",
       " {'offset': 60903, 'text': ''},\n",
       " {'offset': 60974,\n",
       "  'text': '[Anylearn]-Thu, 15 Jul 2021 01:28:43 - __main__ - INFO - Dumped tool data for kernel_stats.pb to ./logs/train/plugins/profile/2021_07_15_01_28_43/job-trai9c74e4c811eb94189ac5f1637d2a-x4dxd.kernel_stats.pb'},\n",
       " {'offset': 61248, 'text': ''},\n",
       " {'offset': 61318, 'text': ''},\n",
       " {'offset': 61389, 'text': ''},\n",
       " {'offset': 61460,\n",
       "  'text': '[Anylearn]-Thu, 15 Jul 2021 01:28:43 - __main__ - INFO - '},\n",
       " {'offset': 61588, 'text': ''},\n",
       " {'offset': 61659,\n",
       "  'text': 'WARNING:tensorflow:Callbacks method `on_train_batch_end` is slow compared to the batch time (batch time: 0.0071s vs `on_train_batch_end` time: 0.0182s). Check your callbacks.'},\n",
       " {'offset': 61904, 'text': ''},\n",
       " {'offset': 61975,\n",
       "  'text': '[Anylearn]-Thu, 15 Jul 2021 01:28:43 - __main__ - INFO - WARNING:tensorflow:Callbacks method `on_train_batch_end` is slow compared to the batch time (batch time: 0.0071s vs `on_train_batch_end` time: 0.0182s). Check your callbacks.'},\n",
       " {'offset': 62277, 'text': ''},\n",
       " {'offset': 62348,\n",
       "  'text': '1874/1875 [============================>.] - ETA: 0s - loss: 0.4904 - accuracy: 0.8257WARNING:tensorflow:From /usr/local/lib/python3.7/dist-packages/tensorflow/python/training/tracking/tracking.py:111: Model.state_updates (from tensorflow.python.keras.engine.training) is deprecated and will be removed in a future version.'},\n",
       " {'offset': 189021, 'text': ''},\n",
       " {'offset': 189092, 'text': 'Instructions for updating:'},\n",
       " {'offset': 189189, 'text': ''},\n",
       " {'offset': 189260,\n",
       "  'text': '1874/1875 [============================>.] - ETA: 0s - loss: 0.4904 - accuracy: 0.8257WARNING:tensorflow:From /usr/local/lib/python3.7/dist-packages/tensorflow/python/training/tracking/tracking.py:111: Model.state_updates (from tensorflow.python.keras.engine.training) is deprecated and will be removed in a future version.'},\n",
       " {'offset': 315990, 'text': ''},\n",
       " {'offset': 316061,\n",
       "  'text': '[Anylearn]-Thu, 15 Jul 2021 01:28:57 - __main__ - INFO - Instructions for updating:'},\n",
       " {'offset': 316215,\n",
       "  'text': 'This property should not be used in TensorFlow 2.0, as updates are applied automatically.'},\n",
       " {'offset': 316375, 'text': ''},\n",
       " {'offset': 316446,\n",
       "  'text': '2021-07-15 01:28:57.198426: W tensorflow/python/util/util.cc:348] Sets are not currently considered sequences, but this may change in the future, so consider avoiding using them.'},\n",
       " {'offset': 316695, 'text': ''},\n",
       " {'offset': 316766, 'text': ''},\n",
       " {'offset': 316836,\n",
       "  'text': '[Anylearn]-Thu, 15 Jul 2021 01:28:57 - __main__ - INFO - This property should not be used in TensorFlow 2.0, as updates are applied automatically.'},\n",
       " {'offset': 317053, 'text': ''},\n",
       " {'offset': 317124,\n",
       "  'text': '[Anylearn]-Thu, 15 Jul 2021 01:28:57 - __main__ - INFO - 2021-07-15 01:28:57.198426: W tensorflow/python/util/util.cc:348] Sets are not currently considered sequences, but this may change in the future, so consider avoiding using them.'},\n",
       " {'offset': 317430, 'text': ''},\n",
       " {'offset': 317501,\n",
       "  'text': 'WARNING:tensorflow:From /usr/local/lib/python3.7/dist-packages/tensorflow/python/training/tracking/tracking.py:111: Layer.updates (from tensorflow.python.keras.engine.base_layer) is deprecated and will be removed in a future version.'},\n",
       " {'offset': 317805, 'text': ''},\n",
       " {'offset': 317876,\n",
       "  'text': '[Anylearn]-Thu, 15 Jul 2021 01:28:57 - __main__ - INFO - WARNING:tensorflow:From /usr/local/lib/python3.7/dist-packages/tensorflow/python/training/tracking/tracking.py:111: Layer.updates (from tensorflow.python.keras.engine.base_layer) is deprecated and will be removed in a future version.'},\n",
       " {'offset': 318237, 'text': ''},\n",
       " {'offset': 318308, 'text': 'Instructions for updating:'},\n",
       " {'offset': 318405, 'text': ''},\n",
       " {'offset': 318476,\n",
       "  'text': '[Anylearn]-Thu, 15 Jul 2021 01:28:57 - __main__ - INFO - Instructions for updating:'},\n",
       " {'offset': 318630, 'text': ''},\n",
       " {'offset': 318701,\n",
       "  'text': 'This property should not be used in TensorFlow 2.0, as updates are applied automatically.'},\n",
       " {'offset': 318861, 'text': ''},\n",
       " {'offset': 318932,\n",
       "  'text': '[Anylearn]-Thu, 15 Jul 2021 01:28:57 - __main__ - INFO - This property should not be used in TensorFlow 2.0, as updates are applied automatically.'},\n",
       " {'offset': 319148, 'text': ''},\n",
       " {'offset': 319219, 'text': 'Current acc: 0.8888000249862671'},\n",
       " {'offset': 319321, 'text': ''},\n",
       " {'offset': 319391,\n",
       "  'text': '[Anylearn]-Thu, 15 Jul 2021 01:28:57 - __main__ - INFO - Current acc: 0.8888000249862671'},\n",
       " {'offset': 319550, 'text': ''},\n",
       " {'offset': 319621,\n",
       "  'text': '1875/1875 [==============================] - 15s 8ms/step - loss: 0.4902 - accuracy: 0.8258 - val_loss: 0.3031 - val_accuracy: 0.8888'},\n",
       " {'offset': 320400, 'text': ''},\n",
       " {'offset': 320471,\n",
       "  'text': '1875/1875 [==============================] - 15s 8ms/step - loss: 0.4902 - accuracy: 0.8258 - val_loss: 0.3031 - val_accuracy: 0.8888'},\n",
       " {'offset': 321193, 'text': ''},\n",
       " {'offset': 321264, 'text': 'Epoch 2/12'},\n",
       " {'offset': 321344, 'text': ''},\n",
       " {'offset': 321415,\n",
       "  'text': '[Anylearn]-Thu, 15 Jul 2021 01:28:58 - __main__ - INFO - Epoch 2/12'},\n",
       " {'offset': 321553, 'text': ''}]"
      ]
     },
     "execution_count": 16,
     "metadata": {},
     "output_type": "execute_result"
    }
   ],
   "source": [
    "# 查询第一个训练任务的完整日志\n",
    "tasks[0].get_full_log()"
   ]
  },
  {
   "cell_type": "markdown",
   "id": "f3659d0d",
   "metadata": {},
   "source": [
    "### 4. 查看NNIBoard"
   ]
  },
  {
   "cell_type": "code",
   "execution_count": 5,
   "id": "c9f1b7ea",
   "metadata": {},
   "outputs": [
    {
     "data": {
      "text/plain": [
       "{'url': 'http://192.168.10.22:31254'}"
      ]
     },
     "execution_count": 5,
     "metadata": {},
     "output_type": "execute_result"
    }
   ],
   "source": [
    "# 获取NNIBoard地址\n",
    "board = hpo_experiment.view()\n",
    "board"
   ]
  },
  {
   "cell_type": "code",
   "execution_count": 6,
   "id": "8c1fcbd1",
   "metadata": {},
   "outputs": [
    {
     "data": {
      "text/html": [
       "<a href='http://192.168.10.22:31254' target='_blank'><h2>打开NNIBoard</h2></a>"
      ],
      "text/plain": [
       "<IPython.core.display.HTML object>"
      ]
     },
     "metadata": {},
     "output_type": "display_data"
    }
   ],
   "source": [
    "from IPython.display import display, HTML\n",
    "display(HTML(f\"<a href='{board['url']}' target='_blank'><h2>打开NNIBoard</h2></a>\"))"
   ]
  },
  {
   "cell_type": "markdown",
   "id": "38454d9e",
   "metadata": {},
   "source": [
    "**在NNIBoard中可以查看每次调参的具体信息，包括运行的参数组合、中间结果记录、运行时间、状态等等**"
   ]
  },
  {
   "cell_type": "markdown",
   "id": "further-exchange",
   "metadata": {},
   "source": [
    "### 5. 中断重启\n",
    "\n",
    "超参数自动调优的过程是漫长的，也有被中断的风险，如主动中断进程、意外退出、甚至宕机、断电等等。这些中断可能会导致调优无法正常结束、无法输出调优结果及最佳模型，已经运行完成的调参子任务便丧失了价值。因此，调优过程的中断重启至关重要。\n",
    "\n",
    "这里我们手动结束之前启动的调优过程，以模拟作业中断，然后再通过重新获取调参实验对象、调用其`resume`方法，达到重启调优过程的目的。\n",
    "\n",
    "注意：调优中断会不可避免地污染当前正在运行中的调参子任务，但调参算法会在重启后对调优过程进行全局统筹。"
   ]
  },
  {
   "cell_type": "code",
   "execution_count": 45,
   "id": "detailed-distinction",
   "metadata": {},
   "outputs": [
    {
     "data": {
      "text/plain": [
       "'PROJ96e804b711eca5e4025560493f54'"
      ]
     },
     "execution_count": 45,
     "metadata": {},
     "output_type": "execute_result"
    }
   ],
   "source": [
    "# 记录Anylearn项目ID\n",
    "project_id = hpo_experiment.project_id\n",
    "\n",
    "# 模拟调参过程中断，并失去调参实验对象引用\n",
    "hpo_experiment.stop()\n",
    "\n",
    "project_id"
   ]
  },
  {
   "cell_type": "code",
   "execution_count": 22,
   "id": "e74ffbbf",
   "metadata": {},
   "outputs": [
    {
     "name": "stdout",
     "output_type": "stream",
     "text": [
      "{'data-path': '$DSET3b9ae2f511ebaba35e9e5b63a5ec'}\n",
      "<class 'dict'>\n"
     ]
    },
    {
     "data": {
      "text/plain": [
       "'STOPPED'"
      ]
     },
     "execution_count": 22,
     "metadata": {},
     "output_type": "execute_result"
    }
   ],
   "source": [
    "# 同步实验对象，可以看到hpo_status已置为STOPPED\n",
    "import time\n",
    "time.sleep(5)\n",
    "hpo_experiment.get_detail()\n",
    "hpo_experiment.hpo_status"
   ]
  },
  {
   "cell_type": "code",
   "execution_count": 24,
   "id": "existing-collector",
   "metadata": {},
   "outputs": [
    {
     "name": "stdout",
     "output_type": "stream",
     "text": [
      "{'data-path': '$DSET3b9ae2f511ebaba35e9e5b63a5ec'}\n",
      "<class 'dict'>\n"
     ]
    },
    {
     "data": {
      "text/plain": [
       "HpoExperiment(\n",
       "    project_id = 'PROJe058e4c811eb94189ac5f1637d2a',\n",
       "    algorithm_id = 'ALGO4d32e4b011eb889a6a087fa89dfd',\n",
       "    dataset_id = 'DSET3b9ae2f511ebaba35e9e5b63a5ec',\n",
       "    hpo_search_space = '{'batch-size': {'_type': 'choice', '_value': [32, 64, 128]}, 'epochs': {'_type': 'choice', '_value': [3, 6, 12]}, 'learning-rate': {'_type': 'choice', '_value': [0.001, 0.01]}}',\n",
       "    hpo_max_runs = '10',\n",
       "    hpo_max_duration = '24h',\n",
       "    hpo_tuner_name = 'TPE',\n",
       "    hpo_mode = 'maximize',\n",
       "    hpo_concurrency = '1',\n",
       "    gpu_num = '1',\n",
       "    gpu_mem = '2',\n",
       "    created_at = '2021-07-15 01:25:13',\n",
       "    hpo_id = '52ayvcij',\n",
       "    hpo_ip = '10.0.0.111',\n",
       "    hpo_port = '8001',\n",
       "    hpo_status = 'STOPPED',\n",
       "    tasks = '{'TRAI9c74e4c811eb94189ac5f1637d2a': 'BS49h', 'TRAId7a6e4c811eb94189ac5f1637d2a': 'Dnc5v'}',\n",
       "    err = '[\"[2021-07-15 01:30:05][PROJe058e4c811eb94189ac5f1637d2a] HTTPConnectionPool(host='localhost', port=8001): Max retries exceeded with url: /api/v1/nni/check-status (Caused by NewConnectionError('<urllib3.connection.HTTPConnection object at 0x7fde7c21c510>: Failed to establish a new connection: [Errno 111] Connection refused'))\"]',\n",
       ")"
      ]
     },
     "execution_count": 24,
     "metadata": {},
     "output_type": "execute_result"
    }
   ],
   "source": [
    "# 重新获取调参实验对象\n",
    "from anylearn.applications.hpo_experiment import HpoExperiment\n",
    "\n",
    "hpo_experiment = HpoExperiment(project_id=project_id)\n",
    "hpo_experiment.get_detail()\n",
    "hpo_experiment"
   ]
  },
  {
   "cell_type": "code",
   "execution_count": 25,
   "id": "peripheral-design",
   "metadata": {},
   "outputs": [
    {
     "data": {
      "text/plain": [
       "HpoExperiment(\n",
       "    project_id = 'PROJe058e4c811eb94189ac5f1637d2a',\n",
       "    algorithm_id = 'ALGO4d32e4b011eb889a6a087fa89dfd',\n",
       "    dataset_id = 'DSET3b9ae2f511ebaba35e9e5b63a5ec',\n",
       "    hpo_search_space = '{'batch-size': {'_type': 'choice', '_value': [32, 64, 128]}, 'epochs': {'_type': 'choice', '_value': [3, 6, 12]}, 'learning-rate': {'_type': 'choice', '_value': [0.001, 0.01]}}',\n",
       "    hpo_max_runs = '10',\n",
       "    hpo_max_duration = '24h',\n",
       "    hpo_tuner_name = 'TPE',\n",
       "    hpo_mode = 'maximize',\n",
       "    hpo_concurrency = '1',\n",
       "    gpu_num = '1',\n",
       "    gpu_mem = '2',\n",
       "    created_at = '2021-07-15 01:25:13',\n",
       "    hpo_id = '52ayvcij',\n",
       "    hpo_ip = '10.0.0.111',\n",
       "    hpo_port = '8001',\n",
       "    hpo_status = 'STOPPED',\n",
       "    tasks = '{'TRAI9c74e4c811eb94189ac5f1637d2a': 'BS49h', 'TRAId7a6e4c811eb94189ac5f1637d2a': 'Dnc5v'}',\n",
       "    err = '[\"[2021-07-15 01:30:05][PROJe058e4c811eb94189ac5f1637d2a] HTTPConnectionPool(host='localhost', port=8001): Max retries exceeded with url: /api/v1/nni/check-status (Caused by NewConnectionError('<urllib3.connection.HTTPConnection object at 0x7fde7c21c510>: Failed to establish a new connection: [Errno 111] Connection refused'))\"]',\n",
       ")"
      ]
     },
     "execution_count": 25,
     "metadata": {},
     "output_type": "execute_result"
    }
   ],
   "source": [
    "# 重启实验\n",
    "hpo_experiment.resume()\n",
    "time.sleep(5)\n",
    "hpo_experiment.get_detail()\n",
    "hpo_experiment"
   ]
  },
  {
   "cell_type": "markdown",
   "id": "bc11f319",
   "metadata": {},
   "source": [
    "### 6. 获取最佳模型"
   ]
  },
  {
   "cell_type": "markdown",
   "id": "tropical-local",
   "metadata": {},
   "source": [
    "调参过程结束后，可通过调用调参实验对象的`export_best_model`方法导出最佳模型到本地。"
   ]
  },
  {
   "cell_type": "code",
   "execution_count": 29,
   "id": "unusual-consideration",
   "metadata": {},
   "outputs": [],
   "source": [
    "hpo_experiment.export_best_model(local_save_path=\"../../_tmp/\")"
   ]
  },
  {
   "cell_type": "markdown",
   "id": "compressed-slovakia",
   "metadata": {},
   "source": [
    "或通过`transform_best_model`方法将最佳模型直接转存到Anylearn后端引擎，方便后续通过其ID调用。"
   ]
  },
  {
   "cell_type": "code",
   "execution_count": 30,
   "id": "third-blues",
   "metadata": {},
   "outputs": [
    {
     "data": {
      "text/plain": [
       "Model(algorithm_id='ALGO4d32e4b011eb889a6a087fa89dfd', name='HPO_EXAMPLE_CNN', description='', state=3, visibility=1, upload_time='2021-07-15 01:39:12', filename='.', is_zipfile=False, file_path='USERfb6c6d2111eaadda13fd17feeac7/model/MODEe7cee4ca11eb929a3ea893258ff7/release', size='0', creator_id='USERfb6c6d2111eaadda13fd17feeac7', node_id='cave-c31e1c203f10da7b', owner=['USERfb6c6d2111eaadda13fd17feeac7'], id='MODEe7cee4ca11eb929a3ea893258ff7')"
      ]
     },
     "execution_count": 30,
     "metadata": {},
     "output_type": "execute_result"
    }
   ],
   "source": [
    "hpo_experiment.transform_best_model(model_name=\"HPO_EXAMPLE_CNN\")"
   ]
  },
  {
   "cell_type": "markdown",
   "id": "fallen-butterfly",
   "metadata": {},
   "source": [
    "另外，如有需要，可调用调参实验对象的`get_best_train_task`方法，获得取得最佳指标的调参任务（`TrainTask`实例），并对其进行其他细粒度操作。"
   ]
  },
  {
   "cell_type": "code",
   "execution_count": 16,
   "id": "continuing-pressure",
   "metadata": {},
   "outputs": [
    {
     "data": {
      "text/plain": [
       "TrainTask(name='HPO_TRIAL_N9_zkQQJ', description='', state=2, visibility=1, creator_id='USER6c1404b311ecb4f10e2019d0107b', owner=['USER6c1404b311ecb4f10e2019d0107b'], project_id='PROJ1fec04c611eca5e4025560493f54', algorithm_id='ALGO164404b311eca64e1ef0f663bff1', train_params='{\"batch-size\": 128, \"learning-rate\": 0.001, \"epochs\": 12, \"data-path\": \"$DSET427cff3711eb956ff2b2f0027438\"}', files='DSET427cff3711eb956ff2b2f0027438', results_id='FILE983a04c811eca4ac265fe0cb6be1', secret_key='TKEY3e5204c811eca4ac265fe0cb6be1', create_time='2021-08-24 18:43:45', finish_time='2021-08-24 18:45:36', envs='', gpu_num=1, gpu_mem=0, hpo=False, hpo_search_space=None, final_metric=0.9265999794006348, id='TRAI4e7204c811eca4ac265fe0cb6be1')"
      ]
     },
     "execution_count": 16,
     "metadata": {},
     "output_type": "execute_result"
    }
   ],
   "source": [
    "train_task = hpo_experiment.get_best_train_task()\n",
    "train_task.get_final_metric()\n",
    "train_task"
   ]
  }
 ],
 "metadata": {
  "kernelspec": {
   "display_name": "Python 3",
   "language": "python",
   "name": "python3"
  },
  "language_info": {
   "codemirror_mode": {
    "name": "ipython",
    "version": 3
   },
   "file_extension": ".py",
   "mimetype": "text/x-python",
   "name": "python",
   "nbconvert_exporter": "python",
   "pygments_lexer": "ipython3",
   "version": "3.9.6"
  }
 },
 "nbformat": 4,
 "nbformat_minor": 5
}
