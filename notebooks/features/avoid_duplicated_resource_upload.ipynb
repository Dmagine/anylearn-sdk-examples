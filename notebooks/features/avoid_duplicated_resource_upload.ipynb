{
 "cells": [
  {
   "cell_type": "markdown",
   "id": "technological-header",
   "metadata": {},
   "source": [
    "# 避免本地资源重复上传 效果演示\n",
    "\n",
    "⚠ **警告：**\n",
    "为了体现效果，本示例会清空本地存储，这有可能会给AnylearnSDK的正常使用带来一定影响，请谨慎执行"
   ]
  },
  {
   "cell_type": "markdown",
   "id": "improving-contribution",
   "metadata": {},
   "source": [
    "### 初始化SDK与Anylearn后端引擎连接"
   ]
  },
  {
   "cell_type": "code",
   "execution_count": 1,
   "id": "seasonal-basics",
   "metadata": {},
   "outputs": [],
   "source": [
    "from anylearn.config import AnylearnConfig, init_sdk\n",
    "from anylearn.storage.db import DB\n",
    "init_sdk(\"http://192.168.10.22:31888\", \"xlearn\", \"123456\")\n",
    "AnylearnConfig.clear_workspace()\n",
    "DB().force_init()"
   ]
  },
  {
   "cell_type": "markdown",
   "id": "reduced-appraisal",
   "metadata": {},
   "source": [
    "### 创建训练"
   ]
  },
  {
   "cell_type": "code",
   "execution_count": 2,
   "id": "printable-roulette",
   "metadata": {},
   "outputs": [],
   "source": [
    "import time\n",
    "from anylearn.applications.quickstart import quick_train"
   ]
  },
  {
   "cell_type": "code",
   "execution_count": 3,
   "id": "featured-ontario",
   "metadata": {},
   "outputs": [
    {
     "name": "stdout",
     "output_type": "stream",
     "text": [
      "TrainTask<name='7dvce03t' id='TRAI2a96b95711eb9b152a4c200ec698'>\n",
      "T = 13037 ms\n"
     ]
    }
   ],
   "source": [
    "st = time.time()\n",
    "\n",
    "train_task1, algo1, dset1, project1 = quick_train(\n",
    "    algorithm_dir=\"../../resources/cnn\",\n",
    "    dataset_dir=\"../../resources/fashion_mnist\",\n",
    "    entrypoint=\"python fashion_mnist.py\",\n",
    "    output=\"model\",\n",
    "    dataset_hyperparam_name=\"data-path\",\n",
    "    hyperparams={'batch-size': 256, 'epochs': 12},\n",
    "    gpu_num=1,\n",
    ")\n",
    "\n",
    "ed = time.time()\n",
    "\n",
    "print(f\"TrainTask<name='{train_task1.name}' id='{train_task1.id}'>\")\n",
    "print(f\"T = {round((ed - st) * 1000)} ms\")"
   ]
  },
  {
   "cell_type": "markdown",
   "id": "advisory-evolution",
   "metadata": {},
   "source": [
    "#### 这里，本地算法和数据集均经过打包、校验、远程注册、上传等操作，耗时较长。\n",
    "\n",
    "*注：本示例使用的算法文件大小为24KB，数据集文件大小为29MB*"
   ]
  },
  {
   "cell_type": "markdown",
   "id": "driving-withdrawal",
   "metadata": {},
   "source": [
    "### 以相同本地算法和数据集再次创建训练"
   ]
  },
  {
   "cell_type": "code",
   "execution_count": 4,
   "id": "vietnamese-snowboard",
   "metadata": {},
   "outputs": [
    {
     "name": "stdout",
     "output_type": "stream",
     "text": [
      "TrainTask<name='z3a4kprg' id='TRAI408cb95711eb9b152a4c200ec698'>\n",
      "T = 1048 ms\n"
     ]
    }
   ],
   "source": [
    "st = time.time()\n",
    "\n",
    "train_task2, algo2, dset2, project2 = quick_train(\n",
    "    algorithm_dir=\"../../resources/cnn\",\n",
    "    dataset_dir=\"../../resources/fashion_mnist\",\n",
    "    entrypoint=\"python fashion_mnist.py\",\n",
    "    output=\"model\",\n",
    "    dataset_hyperparam_name=\"data-path\",\n",
    "    hyperparams={'batch-size': 256, 'epochs': 12},\n",
    "    gpu_num=1,\n",
    ")\n",
    "\n",
    "ed = time.time()\n",
    "\n",
    "print(f\"TrainTask<name='{train_task2.name}' id='{train_task2.id}'>\")\n",
    "print(f\"T = {round((ed - st) * 1000)} ms\")"
   ]
  },
  {
   "cell_type": "markdown",
   "id": "bacterial-swiss",
   "metadata": {},
   "source": [
    "#### 对于已经上传过的本地算法、数据集、模型等资源，Anylearn SDK会在本地做校验，并直接向远程后端请求资源的元信息，以此创建训练，避免了重复上传资源造成额外的网络和读写消耗。\n",
    "\n",
    "#### 可以看到，第二次创建训练任务的耗时大幅降低。\n",
    "\n",
    "*注：本示例使用的算法文件大小为24KB，数据集文件大小为29MB*"
   ]
  },
  {
   "cell_type": "markdown",
   "id": "suspended-salem",
   "metadata": {},
   "source": [
    "### 验证资源是否被复用"
   ]
  },
  {
   "cell_type": "code",
   "execution_count": 5,
   "id": "spiritual-headset",
   "metadata": {},
   "outputs": [
    {
     "name": "stdout",
     "output_type": "stream",
     "text": [
      "Same train task ? False\n",
      "Same algorithm ? True\n",
      "Same dataset ? True\n"
     ]
    }
   ],
   "source": [
    "print(f\"Same train task ? {train_task1.id == train_task2.id}\")\n",
    "print(f\"Same algorithm ? {algo1.id == algo2.id}\")\n",
    "print(f\"Same dataset ? {dset1.id == dset2.id}\")"
   ]
  }
 ],
 "metadata": {
  "kernelspec": {
   "display_name": "Python 3",
   "language": "python",
   "name": "python3"
  },
  "language_info": {
   "codemirror_mode": {
    "name": "ipython",
    "version": 3
   },
   "file_extension": ".py",
   "mimetype": "text/x-python",
   "name": "python",
   "nbconvert_exporter": "python",
   "pygments_lexer": "ipython3",
   "version": "3.9.1"
  }
 },
 "nbformat": 4,
 "nbformat_minor": 5
}
