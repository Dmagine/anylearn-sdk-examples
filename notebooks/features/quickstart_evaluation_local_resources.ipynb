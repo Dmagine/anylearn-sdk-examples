{
 "cells": [
  {
   "cell_type": "markdown",
   "id": "gorgeous-dubai",
   "metadata": {},
   "source": [
    "# 一次性快速验证示例"
   ]
  },
  {
   "cell_type": "markdown",
   "id": "hundred-norman",
   "metadata": {},
   "source": [
    "### 初始化SDK与Anylearn后端引擎连接"
   ]
  },
  {
   "cell_type": "code",
   "execution_count": 1,
   "id": "comprehensive-thought",
   "metadata": {},
   "outputs": [],
   "source": [
    "from anylearn.config import init_sdk\n",
    "init_sdk('http://192.168.10.22:31888', 'xlearn', '123456')"
   ]
  },
  {
   "cell_type": "markdown",
   "id": "functioning-modification",
   "metadata": {},
   "source": [
    "### 创建快速验证任务"
   ]
  },
  {
   "cell_type": "code",
   "execution_count": 2,
   "id": "northern-apparel",
   "metadata": {},
   "outputs": [
    {
     "data": {
      "text/plain": [
       "EvaluateTask(id='EVAL61d8cfff11eb8932f292118be07c', name='fshcutr2', description='', state=0, visibility=1, creator_id='USERfb6c6d2111eaadda13fd17feeac7', owner=['USERfb6c6d2111eaadda13fd17feeac7'], create_time='2021-06-18 14:38:30', finish_time='', params_list='[{\"id\": null, \"model_id\": \"MODEea74cfff11eb8932f292118be07c\", \"files\": \"DSET2edccfd711eba02b42ab21fc2a3e\", \"evaluate_params\": {\"model-dir\": \"$MODEea74cfff11eb8932f292118be07c\", \"data-path\": \"$DSET2edccfd711eba02b42ab21fc2a3e\", \"batch-size\": 64}, \"envs\": \"\", \"gpu_num\": 1, \"results\": null}]', sub_tasks=[EvaluateSubTask(id='EVREe846cfff11eb8932f292118be07c', model_id='MODEea74cfff11eb8932f292118be07c', files=['DSET2edccfd711eba02b42ab21fc2a3e'], evaluate_params={'model-dir': '$MODEea74cfff11eb8932f292118be07c', 'data-path': '$DSET2edccfd711eba02b42ab21fc2a3e', 'batch-size': 64}, envs={}, gpu_num=1, results='')], secret_key='TKEY62f0cfff11eb8932f292118be07c')"
      ]
     },
     "execution_count": 2,
     "metadata": {},
     "output_type": "execute_result"
    }
   ],
   "source": [
    "from anylearn.applications.quickstart import quick_evaluate\n",
    "eval_task, algo, model, dset = quick_evaluate(\n",
    "    model_dir=\"../../resources/cnn_model\",\n",
    "    algorithm_name=\"testyhu\",\n",
    "    algorithm_dir=\"../../resources/cnn\",\n",
    "    dataset_dir=\"../../resources/fashion_mnist\",\n",
    "    entrypoint=\"python eval.py\",\n",
    "    output=\"result.txt\",\n",
    "    model_hyperparam_name=\"model-dir\",\n",
    "    dataset_hyperparam_name=\"data-path\",\n",
    "    hyperparams={'batch-size': 64},\n",
    "    gpu_num=1,\n",
    ")\n",
    "eval_task"
   ]
  },
  {
   "cell_type": "markdown",
   "id": "median-chester",
   "metadata": {},
   "source": [
    "### 追踪验证进度和结果"
   ]
  },
  {
   "cell_type": "code",
   "execution_count": 3,
   "id": "intelligent-gibson",
   "metadata": {},
   "outputs": [
    {
     "name": "stdout",
     "output_type": "stream",
     "text": [
      "WORKING...\n"
     ]
    },
    {
     "data": {
      "text/plain": [
       "'[0.24995441734790802, 0.1023000031709671]'"
      ]
     },
     "execution_count": 3,
     "metadata": {},
     "output_type": "execute_result"
    }
   ],
   "source": [
    "import time\n",
    "\n",
    "from anylearn.interfaces import EvaluateTaskState\n",
    "\n",
    "while eval_task.state not in [EvaluateTaskState.SUCCESS, EvaluateTaskState.FAIL]:\n",
    "    print(\"WORKING...\")\n",
    "    time.sleep(10)\n",
    "    eval_task.get_detail()\n",
    "eval_task.sub_tasks[0].results"
   ]
  }
 ],
 "metadata": {
  "kernelspec": {
   "display_name": "Python 3",
   "language": "python",
   "name": "python3"
  },
  "language_info": {
   "codemirror_mode": {
    "name": "ipython",
    "version": 3
   },
   "file_extension": ".py",
   "mimetype": "text/x-python",
   "name": "python",
   "nbconvert_exporter": "python",
   "pygments_lexer": "ipython3",
   "version": "3.9.1"
  }
 },
 "nbformat": 4,
 "nbformat_minor": 5
}
