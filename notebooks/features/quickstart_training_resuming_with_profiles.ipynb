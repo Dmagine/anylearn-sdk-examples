{
 "cells": [
  {
   "cell_type": "markdown",
   "metadata": {},
   "source": [
    "# 本地训练断线重连+训练描述"
   ]
  },
  {
   "cell_type": "markdown",
   "metadata": {},
   "source": [
    "### 初始化SDK与Anylearn后端引擎连接"
   ]
  },
  {
   "cell_type": "code",
   "execution_count": 1,
   "metadata": {},
   "outputs": [],
   "source": [
    "from anylearn.config import init_sdk\n",
    "\n",
    "init_sdk('http://192.168.10.22:31888', 'xlearn', '123456')"
   ]
  },
  {
   "cell_type": "markdown",
   "metadata": {},
   "source": [
    "### 创建快速训练任务"
   ]
  },
  {
   "cell_type": "code",
   "execution_count": 2,
   "metadata": {},
   "outputs": [
    {
     "name": "stderr",
     "output_type": "stream",
     "text": [
      "/Users/yhuang/dev/anylearn-sdk/examples/venv/lib/python3.9/site-packages/sqlalchemy/sql/sqltypes.py:727: SAWarning: Dialect sqlite+pysqlite does *not* support Decimal objects natively, and SQLAlchemy must convert from floating point - rounding errors and other issues may occur. Please consider storing Decimal numbers as strings or integers on this platform for lossless storage.\n",
      "  util.warn(\n"
     ]
    },
    {
     "data": {
      "text/plain": [
       "TrainTask(name='jiq05vb3', description='', state=0, visibility=1, creator_id='USERfb6c6d2111eaadda13fd17feeac7', owner=['USERfb6c6d2111eaadda13fd17feeac7'], project_id='PROJ6adaca8711ebab09ee8571c2da21', algorithm_id='ALGO69a0ca8711ebab09ee8571c2da21', train_params='{\"data-path\": \"$DSETbec8c90411eb8edd8a9cbf62f009\", \"batch-size\": 256, \"epochs\": 12}', files='DSETbec8c90411eb8edd8a9cbf62f009', results_id='FILEbc92ca8711ebab09ee8571c2da21', secret_key='TKEY755aca8711ebab09ee8571c2da21', create_time='2021-06-11 15:37:45', finish_time='', envs='', gpu_num=1, hpo=False, hpo_search_space=None, final_metric=None, id='TRAI2e28ca8711ebab09ee8571c2da21')"
      ]
     },
     "execution_count": 2,
     "metadata": {},
     "output_type": "execute_result"
    }
   ],
   "source": [
    "from anylearn.applications.quickstart import quick_train\n",
    "\n",
    "train_task, algo, dset, project = quick_train(\n",
    "    algorithm_dir=\"../../resources/cnn\",\n",
    "    dataset_dir=\"../../resources/fashion_mnist\",\n",
    "    entrypoint=\"python fashion_mnist.py\",\n",
    "    output=\"model\",\n",
    "    dataset_hyperparam_name=\"data-path\",\n",
    "    hyperparams={'batch-size': 256, 'epochs': 12},\n",
    "    gpu_num=1,\n",
    ")\n",
    "train_task"
   ]
  },
  {
   "cell_type": "markdown",
   "metadata": {},
   "source": [
    "### 模拟本地进程中断\n",
    "\n",
    "先前获取的用于管理训练任务的训练对象丢失，无法继续获取训练状态、训练结果等信息。"
   ]
  },
  {
   "cell_type": "code",
   "execution_count": 3,
   "metadata": {},
   "outputs": [],
   "source": [
    "train_task = None"
   ]
  },
  {
   "cell_type": "markdown",
   "metadata": {},
   "source": [
    "### 中断重连本地未完成的训练任务\n",
    "\n",
    "通过本地快速开始（`quickstart`模块）启动训练后，训练任务本身运行在后端，与本地环境相互独立。\n",
    "\n",
    "但在用户本地有可能遇到进程中断、宕机等情况，导致在SDK上下文中丢失已启动训练的对象，继而无法继续维护训练的生命周期。\n",
    "\n",
    "因此SDK在快速开始模块中提供了中断重连的功能，便于用户重新获得已启动的训练的对象。"
   ]
  },
  {
   "cell_type": "code",
   "execution_count": 4,
   "metadata": {},
   "outputs": [
    {
     "data": {
      "text/plain": [
       "[TrainTask(name='jiq05vb3', description='', state=0, visibility=1, creator_id='USERfb6c6d2111eaadda13fd17feeac7', owner=['USERfb6c6d2111eaadda13fd17feeac7'], project_id='PROJ6adaca8711ebab09ee8571c2da21', algorithm_id='ALGO69a0ca8711ebab09ee8571c2da21', train_params='{\"data-path\": \"$DSETbec8c90411eb8edd8a9cbf62f009\", \"batch-size\": 256, \"epochs\": 12}', files='DSETbec8c90411eb8edd8a9cbf62f009', results_id='FILEbc92ca8711ebab09ee8571c2da21', secret_key='TKEY755aca8711ebab09ee8571c2da21', create_time='2021-06-11 15:37:45', finish_time='', envs='', gpu_num=1, hpo=False, hpo_search_space=None, final_metric=None, id='TRAI2e28ca8711ebab09ee8571c2da21')]"
      ]
     },
     "execution_count": 4,
     "metadata": {},
     "output_type": "execute_result"
    }
   ],
   "source": [
    "from anylearn.applications.quickstart import resume_unfinished_local_train_tasks\n",
    "\n",
    "tasks = resume_unfinished_local_train_tasks()\n",
    "tasks"
   ]
  },
  {
   "cell_type": "markdown",
   "metadata": {},
   "source": [
    "### 获取训练任务描述\n",
    "\n",
    "当用户运行了大量的训练后会产生大量的训练任务元信息，这些元信息来自Anylearn后端引擎，主要基于各类ID，对**用户区分和识别**每个训练任务会造成一些困难。\n",
    "\n",
    "因此SDK中还提供了对每个本地训练任务的额外描述，主要基于用户本地的上下文信息，例如：训练启动时间、本地算法路径、数据集路径等等。"
   ]
  },
  {
   "cell_type": "code",
   "execution_count": 5,
   "metadata": {},
   "outputs": [
    {
     "data": {
      "text/plain": [
       "[TrainProfile(\n",
       "     id='DESC5eeaca8711ebafd5acde48001122',\n",
       "     train_task_id=TRAI2e28ca8711ebab09ee8571c2da21,\n",
       "     entrypoint='python fashion_mnist.py',\n",
       "     train_params='{\"data-path\": \"$DSETbec8c90411eb8edd8a9cbf62f009\", \"batch-size\": 256, \"epochs\": 12}',\n",
       "     algorithm_id='ALGO69a0ca8711ebab09ee8571c2da21',\n",
       "     algorithm_dir='../../resources/cnn',\n",
       "     algorithm_archive='/Users/yhuang/.anylearn/ALGO_f0k2vp56.zip',\n",
       "     dataset_id='DSETbec8c90411eb8edd8a9cbf62f009',\n",
       "     dataset_dir='../../resources/fashion_mnist',\n",
       "     dataset_archive='None',\n",
       "     created_at=datetime.strptime('2021-06-11 15:37:38', '%Y-%m-%d %H:%M:%S'),\n",
       " )]"
      ]
     },
     "execution_count": 5,
     "metadata": {},
     "output_type": "execute_result"
    }
   ],
   "source": [
    "profiles = [t.get_train_profile() for t in tasks]\n",
    "profiles"
   ]
  }
 ],
 "metadata": {
  "kernelspec": {
   "display_name": "Python 3",
   "language": "python",
   "name": "python3"
  },
  "language_info": {
   "codemirror_mode": {
    "name": "ipython",
    "version": 3
   },
   "file_extension": ".py",
   "mimetype": "text/x-python",
   "name": "python",
   "nbconvert_exporter": "python",
   "pygments_lexer": "ipython3",
   "version": "3.9.1"
  },
  "metadata": {
   "interpreter": {
    "hash": "02dd80c4b7287f3e16ced86c43aa4adbd2bf8523c6ec7913418dfb2bc69fcf95"
   }
  }
 },
 "nbformat": 4,
 "nbformat_minor": 2
}
