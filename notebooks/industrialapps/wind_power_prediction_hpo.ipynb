{
 "cells": [
  {
   "cell_type": "markdown",
   "id": "57dddcd9",
   "metadata": {},
   "source": [
    "# 金风风速预测算法超参数调优示例"
   ]
  },
  {
   "cell_type": "markdown",
   "id": "7b352a06",
   "metadata": {},
   "source": [
    "### 1. 准备可调超参数搜索空间"
   ]
  },
  {
   "cell_type": "code",
   "execution_count": 1,
   "id": "e691e856",
   "metadata": {},
   "outputs": [],
   "source": [
    "search_space = {\n",
    "    \"itr\": {\"_type\": \"choice\", \"_value\": [1, 2]},\n",
    "    \"dropout\": {\"_type\": \"uniform\", \"_value\": [0.01, 0.1]},\n",
    "    \"learning_rate\": {\"_type\": \"choice\", \"_value\": [0.0001, 0.001, 0.01, 0.1]},\n",
    "    \"patience\": {\"_type\": \"choice\", \"_value\": [3, 4, 5]},\n",
    "    \"train_epochs\": {\"_type\": \"choice\", \"_value\": [3, 4, 5, 6]},\n",
    "    \"e_layers\": {\"_type\": \"choice\", \"_value\": [1, 2, 3]},\n",
    "    \"d_layers\": {\"_type\": \"choice\", \"_value\": [1, 2, 3]},\n",
    "}"
   ]
  },
  {
   "cell_type": "markdown",
   "id": "5cc8976d",
   "metadata": {},
   "source": [
    "### 2. 准备定值超参数"
   ]
  },
  {
   "cell_type": "code",
   "execution_count": 2,
   "id": "90a9df86",
   "metadata": {},
   "outputs": [],
   "source": [
    "fixed_hyperparams = {\n",
    "    \"seq_len\": {\"_type\": \"choice\", \"_value\": [336]},\n",
    "    \"label_len\": {\"_type\": \"choice\", \"_value\": [198]},\n",
    "    \"is_training\": {\"_type\": \"choice\", \"_value\": [1]},\n",
    "    \"root_path\": {\"_type\": \"choice\", \"_value\": [\".\"]},\n",
    "    \"model_id\": {\"_type\": \"choice\", \"_value\": [\"wind_guangxi_96\"]},\n",
    "    \"model\": {\"_type\": \"choice\", \"_value\": [\"transformer\"]},\n",
    "    \"data\": {\"_type\": \"choice\", \"_value\": [\"custom\"]},\n",
    "    \"features\": {\"_type\": \"choice\", \"_value\": [\"M\"]},\n",
    "    \"pred_len\": {\"_type\": \"choice\", \"_value\": [96]},\n",
    "    \"enc_in\": {\"_type\": \"choice\", \"_value\": [1]},\n",
    "    \"dec_in\": {\"_type\": \"choice\", \"_value\": [1]},\n",
    "    \"c_out\": {\"_type\": \"choice\", \"_value\": [1]},\n",
    "    \"attn\": {\"_type\": \"choice\", \"_value\": [\"prob\"]},\n",
    "    \"des\": {\"_type\": \"choice\", \"_value\": [\"Exp\"]},\n",
    "    \"data_path\": {\"_type\": \"choice\", \"_value\": [\"wind_guangxi.csv\"]},\n",
    "}"
   ]
  },
  {
   "cell_type": "markdown",
   "id": "80097618",
   "metadata": {},
   "source": [
    "### 3. 调用SDK的超参数调优接口"
   ]
  },
  {
   "cell_type": "code",
   "execution_count": 3,
   "id": "593c3208",
   "metadata": {},
   "outputs": [
    {
     "name": "stdout",
     "output_type": "stream",
     "text": [
      "[2021-05-07 13:48:16] (anylearn_sdk_quickstart) Uploading algorithm ALGO_38plgxhb...\n",
      "[2021-05-07 13:48:21] (anylearn_sdk_quickstart) Successfully uploaded algorithm\n",
      "[2021-05-07 13:48:21] (anylearn_sdk_quickstart) Uploading dataset DSET_7416rikw...\n",
      "[2021-05-07 13:48:26] (anylearn_sdk_quickstart) Successfully uploaded dataset\n",
      "[2021-05-07 13:48:26] (anylearn_sdk_hpo) Command trial: anylearnctl trial 'http://192.168.10.22:31888' 'xlearn' '123456' 'PROJf6d8aef711eb84dd3e1c77198776' 'ALGOf31caef711eb84dd3e1c77198776' 'DSET6314aef711eb84dd3e1c77198776' --dataset-hyperparam-name 'data_path' --gpu-num '1'\n",
      "[2021-05-07 13:48:26] Creating experiment, Experiment ID: icx6omgu\n",
      "[2021-05-07 13:48:26] Statring web server...\n",
      "[2021-05-07 13:48:27] Setting up...\n",
      "[2021-05-07 13:48:27] Web UI URLs: http://127.0.0.1:8080 http://192.168.10.22:8080 http://172.17.0.1:8080 http://10.244.0.0:8080 http://10.244.0.1:8080\n"
     ]
    }
   ],
   "source": [
    "from anylearn.applications.hpo import run_hpo\n",
    "from anylearn.config import init_sdk\n",
    "\n",
    "init_sdk(\"http://192.168.10.22:31888\", \"xlearn\", \"123456\")\n",
    "\n",
    "run_hpo(\n",
    "    hpo_search_space=dict(search_space, **fixed_hyperparams),\n",
    "    hpo_max_runs=100,\n",
    "    hpo_max_duration=\"36h\",\n",
    "    hpo_mode=\"minimize\", #指标为RMSE，因此需最小化\n",
    "    algorithm_dir=\"../../resources/transformer\",\n",
    "    dataset_dir=\"../../resources/jinfeng_guangxi\",\n",
    "    algorithm_entrypoint=\"python -u main_informer.py\",\n",
    "    algorithm_output=\"output_model\",\n",
    "    dataset_hyperparam_name=\"data_path\",\n",
    "    project_name=\"HPO_TRANSFORMER\",\n",
    "    gpu_num=1,\n",
    ")"
   ]
  },
  {
   "cell_type": "markdown",
   "id": "f3659d0d",
   "metadata": {},
   "source": [
    "### 4. NNIBoard可视化调参状态"
   ]
  },
  {
   "cell_type": "code",
   "execution_count": 4,
   "id": "8c1fcbd1",
   "metadata": {},
   "outputs": [
    {
     "data": {
      "text/html": [
       "<iframe src=\"http://192.168.10.22:8080\" width=\"1200\" height=\"600\"></iframe>\n"
      ],
      "text/plain": [
       "<IPython.core.display.HTML object>"
      ]
     },
     "metadata": {},
     "output_type": "display_data"
    }
   ],
   "source": [
    "%%html\n",
    "<iframe src=\"http://192.168.10.22:8080\" width=\"1200\" height=\"600\"></iframe>"
   ]
  },
  {
   "cell_type": "markdown",
   "id": "38454d9e",
   "metadata": {},
   "source": [
    "**在NNIBoard中可以查看每次调参的具体信息，包括运行的参数组合、中间结果记录、运行时间、状态等等**"
   ]
  },
  {
   "cell_type": "markdown",
   "id": "bc11f319",
   "metadata": {},
   "source": [
    "### 5. 调参结果（持续开发中）\n",
    "\n",
    "后续的开发工作包括（不限于）：调参过程的检测、AnylearnSDK与NNI的交互、调参结果的处理等功能"
   ]
  }
 ],
 "metadata": {
  "kernelspec": {
   "display_name": "Python 3",
   "language": "python",
   "name": "python3"
  },
  "language_info": {
   "codemirror_mode": {
    "name": "ipython",
    "version": 3
   },
   "file_extension": ".py",
   "mimetype": "text/x-python",
   "name": "python",
   "nbconvert_exporter": "python",
   "pygments_lexer": "ipython3",
   "version": "3.9.1"
  }
 },
 "nbformat": 4,
 "nbformat_minor": 5
}
