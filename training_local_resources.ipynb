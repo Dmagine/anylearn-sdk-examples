{
 "cells": [
  {
   "cell_type": "markdown",
   "id": "surprised-spectrum",
   "metadata": {},
   "source": [
    "# 一次性训练（低级接口）示例"
   ]
  },
  {
   "cell_type": "markdown",
   "id": "covered-signature",
   "metadata": {},
   "source": [
    "### 初始化SDK与Anylearn后端引擎连接"
   ]
  },
  {
   "cell_type": "code",
   "execution_count": 1,
   "id": "grand-tomorrow",
   "metadata": {},
   "outputs": [],
   "source": [
    "from anylearn.config import init_sdk\n",
    "init_sdk('http://192.168.10.22:31888', 'xlearn', '123456')"
   ]
  },
  {
   "cell_type": "markdown",
   "id": "aerial-implementation",
   "metadata": {},
   "source": [
    "### 创建数据集和算法"
   ]
  },
  {
   "cell_type": "code",
   "execution_count": 2,
   "id": "attended-xerox",
   "metadata": {},
   "outputs": [
    {
     "name": "stdout",
     "output_type": "stream",
     "text": [
      "数据集：DSET1562886711ebbdad2e92612489ab\n",
      "算法：ALGO21d4886711ebbdad2e92612489ab\n"
     ]
    }
   ],
   "source": [
    "from anylearn.interfaces.mirror import Mirror\n",
    "from anylearn.interfaces.resource.dataset import Dataset\n",
    "from anylearn.interfaces.resource.algorithm import Algorithm\n",
    "\n",
    "dset = Dataset(name=\"TY20T-SDK\", description=\"天远20吨保养数据集\", filename=\"ty20t.zip\", is_zipfile=True)\n",
    "dset.save()\n",
    "print(f\"数据集：{dset.id}\")\n",
    "\n",
    "mirror = next(m for m in Mirror.get_list() if m.name == \"pytorch1.5\")\n",
    "algo = Algorithm(name=\"SSD-SDK\", filename=\"SSD-22-clean.zip\", is_zipfile=True, mirror_id=mirror.id,\n",
    "                 train_params=\"[{\\\"name\\\":\\\"dataset\\\",\\\"type\\\":\\\"dataset\\\",\\\"suggest\\\":1},{\\\"name\\\":\\\"max_iter\\\",\\\"type\\\":\\\"int\\\",\\\"suggest\\\":1,\\\"default\\\":\\\"12000\\\",\\\"scope\\\":\\\"<-Infinity,Infinity>\\\"}]\",\n",
    "                 evaluate_params=\"[{\\\"name\\\":\\\"dataset\\\",\\\"type\\\":\\\"dataset\\\",\\\"suggest\\\":1},{\\\"name\\\":\\\"model_path\\\",\\\"alias\\\":\\\"\\\",\\\"description\\\":\\\"\\\",\\\"type\\\":\\\"model\\\",\\\"suggest\\\":1}]\")\n",
    "algo.save()\n",
    "print(f\"算法：{algo.id}\")"
   ]
  },
  {
   "cell_type": "markdown",
   "id": "formed-royalty",
   "metadata": {},
   "source": [
    "### 上传本地数据集和算法文件"
   ]
  },
  {
   "cell_type": "code",
   "execution_count": 3,
   "id": "improving-fishing",
   "metadata": {},
   "outputs": [
    {
     "name": "stdout",
     "output_type": "stream",
     "text": [
      "数据集上传中：\n",
      "Uploaded 20%\n",
      "Uploaded 40%\n",
      "Uploaded 60%\n",
      "Uploaded 80%\n",
      "Uploaded 100%\n",
      "数据集上传成功且已就绪\n",
      "算法上传中：\n",
      "Uploaded 60%\n",
      "Uploaded 100%\n",
      "算法上传成功且已就绪\n"
     ]
    }
   ],
   "source": [
    "from threading import Thread\n",
    "import time\n",
    "from anylearn.interfaces.resource.resource_uploader import AsyncResourceUploader\n",
    "from anylearn.interfaces.resource.resource import Resource, ResourceState\n",
    "\n",
    "def __on_progress(curr, total):\n",
    "    prog = int(100 * curr / total)\n",
    "    if not (prog % 20):\n",
    "        print(f\"Uploaded {prog}%\")\n",
    "\n",
    "uploader = AsyncResourceUploader(on_progress=__on_progress)\n",
    "\n",
    "print(\"数据集上传中：\")\n",
    "t_dset = Thread(target=Resource.upload_file,\n",
    "                kwargs={\n",
    "                    'resource_id': dset.id,\n",
    "                    'file_path': \"/Users/yhuang/dev/anylearn-resources/datasets/ty20t.zip\",\n",
    "                    'uploader': uploader,\n",
    "                })\n",
    "t_dset.start()\n",
    "t_dset.join()\n",
    "while dset.state != ResourceState.READY:\n",
    "    time.sleep(5)\n",
    "    dset.get_detail()\n",
    "print(\"数据集上传成功且已就绪\")\n",
    "\n",
    "print(\"算法上传中：\")\n",
    "t_algo = Thread(target=Resource.upload_file,\n",
    "                kwargs={\n",
    "                    'resource_id': algo.id,\n",
    "                    'file_path': \"/Users/yhuang/dev/anylearn-resources/algo/SSD-22-clean.zip\",\n",
    "                    'uploader': uploader,\n",
    "                })\n",
    "t_algo.start()\n",
    "t_algo.join()\n",
    "while algo.state != ResourceState.READY:\n",
    "    time.sleep(5)\n",
    "    algo.get_detail()\n",
    "print(\"算法上传成功且已就绪\")"
   ]
  },
  {
   "cell_type": "markdown",
   "id": "higher-female",
   "metadata": {},
   "source": [
    "### 创建项目"
   ]
  },
  {
   "cell_type": "code",
   "execution_count": 4,
   "id": "subjective-undergraduate",
   "metadata": {},
   "outputs": [
    {
     "data": {
      "text/plain": [
       "Project(id='PROJc0ec886711ebbdad2e92612489ab', name='Quick-train-SSD-TY20T', description='', visibility=3, create_time='2021-03-19 11:59:56', update_time='2021-03-19 11:59:56', creator_id='USERfb6c6d2111eaadda13fd17feeac7', datasets=['DSET1562886711ebbdad2e92612489ab'], owner=['USERfb6c6d2111eaadda13fd17feeac7'])"
      ]
     },
     "execution_count": 4,
     "metadata": {},
     "output_type": "execute_result"
    }
   ],
   "source": [
    "from anylearn.interfaces.project import Project\n",
    "project = Project(name=\"Quick-train-SSD-TY20T\", datasets=[dset.id])\n",
    "project.save()\n",
    "project.get_detail()\n",
    "project"
   ]
  },
  {
   "cell_type": "markdown",
   "id": "oriented-indie",
   "metadata": {},
   "source": [
    "### 创建训练任务"
   ]
  },
  {
   "cell_type": "code",
   "execution_count": 5,
   "id": "logical-timing",
   "metadata": {},
   "outputs": [
    {
     "data": {
      "text/plain": [
       "TrainTask(name='SSD-TY20T', description='', state=0, visibility=3, creator_id='USERfb6c6d2111eaadda13fd17feeac7', owner=['USERfb6c6d2111eaadda13fd17feeac7'], project_id=None, algorithm_id='ALGO21d4886711ebbdad2e92612489ab', train_params='{\"dataset\":\"$DSET1562886711ebbdad2e92612489ab\",\"max_iter\":\"100\"}', files='DSET1562886711ebbdad2e92612489ab', results_id='FILE7b0c886711ebbdad2e92612489ab', secret_key='TKEY2074886711ebbdad2e92612489ab', create_time='2021-03-19 11:59:56', finish_time='', envs='', gpu_num=1, hpo=False, hpo_search_space=None, id='TRAIb5ba886711ebbdad2e92612489ab')"
      ]
     },
     "execution_count": 5,
     "metadata": {},
     "output_type": "execute_result"
    }
   ],
   "source": [
    "from anylearn.interfaces.train_task import TrainTask\n",
    "train_task = TrainTask(name=\"SSD-TY20T\", project_id=project.id,\n",
    "                       algorithm_id=algo.id,\n",
    "                       files=[dset.id],\n",
    "                       train_params=f\"{{\\\"dataset\\\":\\\"${dset.id}\\\",\\\"max_iter\\\":\\\"100\\\"}}\")\n",
    "train_task.save()\n",
    "train_task.get_detail()\n",
    "train_task"
   ]
  },
  {
   "cell_type": "markdown",
   "id": "inner-competition",
   "metadata": {},
   "source": [
    "### 追踪训练进度"
   ]
  },
  {
   "cell_type": "code",
   "execution_count": 6,
   "id": "regulated-theology",
   "metadata": {},
   "outputs": [
    {
     "name": "stdout",
     "output_type": "stream",
     "text": [
      "Waiting...\n",
      "Progress: 0%\n",
      "Progress: 18%\n",
      "Progress: 50%\n",
      "Progress: 82%\n"
     ]
    },
    {
     "data": {
      "text/plain": [
       "'success'"
      ]
     },
     "execution_count": 6,
     "metadata": {},
     "output_type": "execute_result"
    }
   ],
   "source": [
    "import time\n",
    "\n",
    "status = train_task.get_status()\n",
    "while 'state' not in status:\n",
    "    print(\"Waiting...\")\n",
    "    time.sleep(10)\n",
    "    status = train_task.get_status()\n",
    "while status['state'] not in [\"success\", \"fail\"]:\n",
    "    print(f\"Progress: {int(100 * float(status['process']))}%\")\n",
    "    time.sleep(30)\n",
    "    status = train_task.get_status()\n",
    "status['state']"
   ]
  }
 ],
 "metadata": {
  "kernelspec": {
   "display_name": "Python 3",
   "language": "python",
   "name": "python3"
  },
  "language_info": {
   "codemirror_mode": {
    "name": "ipython",
    "version": 3
   },
   "file_extension": ".py",
   "mimetype": "text/x-python",
   "name": "python",
   "nbconvert_exporter": "python",
   "pygments_lexer": "ipython3",
   "version": "3.9.1"
  }
 },
 "nbformat": 4,
 "nbformat_minor": 5
}
